{
 "cells": [
  {
   "cell_type": "code",
   "execution_count": 121,
   "metadata": {},
   "outputs": [],
   "source": [
    "import os\n",
    "import plaid\n",
    "import requests\n",
    "import datetime\n",
    "import json\n",
    "import pandas as pd\n",
    "%matplotlib inline"
   ]
  },
  {
   "cell_type": "code",
   "execution_count": 122,
   "metadata": {},
   "outputs": [],
   "source": [
    "def pretty_print_response(response):\n",
    "  print(json.dumps(response, indent=4, sort_keys=True))"
   ]
  },
  {
   "cell_type": "code",
   "execution_count": 123,
   "metadata": {},
   "outputs": [],
   "source": [
    "PLAID_CLIENT_ID = os.getenv('PLAID_CLIENT_ID')\n",
    "PLAID_SECRET = os.getenv('PLAID_SECRET')\n",
    "PLAID_PUBLIC_KEY = os.getenv('PLAID_PUBLIC_KEY')\n",
    "PLAID_ENV = os.getenv('PLAID_ENV', 'sandbox')\n",
    "PLAID_PRODUCTS = os.getenv('PLAID_PRODUCTS', 'transactions')"
   ]
  },
  {
   "cell_type": "code",
   "execution_count": 124,
   "metadata": {},
   "outputs": [
    {
     "data": {
      "text/plain": [
       "str"
      ]
     },
     "execution_count": 124,
     "metadata": {},
     "output_type": "execute_result"
    }
   ],
   "source": [
    "type(PLAID_PUBLIC_KEY)"
   ]
  },
  {
   "cell_type": "code",
   "execution_count": 125,
   "metadata": {},
   "outputs": [],
   "source": [
    "# Plaid Access Token"
   ]
  },
  {
   "cell_type": "code",
   "execution_count": 126,
   "metadata": {},
   "outputs": [],
   "source": [
    "## 1. Create a client to connect to plaid\n",
    "client = plaid.Client(client_id=PLAID_CLIENT_ID, secret=PLAID_SECRET, public_key=PLAID_PUBLIC_KEY, environment='sandbox')"
   ]
  },
  {
   "cell_type": "code",
   "execution_count": 127,
   "metadata": {},
   "outputs": [],
   "source": [
    "# Institution for processing\n",
    "INSTITUTION_ID = \"ins_109508\""
   ]
  },
  {
   "cell_type": "code",
   "execution_count": 128,
   "metadata": {},
   "outputs": [],
   "source": [
    "## 2. Generate a public token"
   ]
  },
  {
   "cell_type": "code",
   "execution_count": 129,
   "metadata": {},
   "outputs": [],
   "source": [
    "create_tkn_response = client.Sandbox.public_token.create(INSTITUTION_ID, ['transactions','income','assets'])\n"
   ]
  },
  {
   "cell_type": "code",
   "execution_count": 130,
   "metadata": {},
   "outputs": [
    {
     "name": "stdout",
     "output_type": "stream",
     "text": [
      "{'public_token': 'public-sandbox-9ce1a89b-336b-43d0-a007-92e12b7f42cb', 'request_id': 'rsVoDISkqOfv67b'}\n"
     ]
    }
   ],
   "source": [
    "print(create_tkn_response)"
   ]
  },
  {
   "cell_type": "code",
   "execution_count": 131,
   "metadata": {},
   "outputs": [],
   "source": [
    "## 3. Exchange the public token for an access token"
   ]
  },
  {
   "cell_type": "code",
   "execution_count": 132,
   "metadata": {},
   "outputs": [],
   "source": [
    "exchange_response = client.Item.public_token.exchange(create_tkn_response['public_token'])\n",
    "access_token = exchange_response['access_token']"
   ]
  },
  {
   "cell_type": "code",
   "execution_count": 133,
   "metadata": {},
   "outputs": [
    {
     "data": {
      "text/plain": [
       "'access-sandbox-45a04a34-74c6-4474-bfc3-234a9e6df122'"
      ]
     },
     "execution_count": 133,
     "metadata": {},
     "output_type": "execute_result"
    }
   ],
   "source": [
    "access_token"
   ]
  },
  {
   "cell_type": "code",
   "execution_count": 134,
   "metadata": {},
   "outputs": [],
   "source": [
    "## 4. Fetch Accounts"
   ]
  },
  {
   "cell_type": "code",
   "execution_count": 135,
   "metadata": {},
   "outputs": [
    {
     "data": {
      "text/plain": [
       "{'institutions': [{'country_codes': ['US'],\n",
       "   'credentials': [{'label': 'Username', 'name': 'username', 'type': 'text'},\n",
       "    {'label': 'Password', 'name': 'password', 'type': 'password'}],\n",
       "   'has_mfa': False,\n",
       "   'input_spec': 'fixed',\n",
       "   'institution_id': 'ins_25',\n",
       "   'mfa': [],\n",
       "   'mfa_code_type': 'numeric',\n",
       "   'name': 'Ally Bank',\n",
       "   'products': ['assets',\n",
       "    'auth',\n",
       "    'balance',\n",
       "    'transactions',\n",
       "    'income',\n",
       "    'identity'],\n",
       "   'routing_numbers': []},\n",
       "  {'country_codes': ['US'],\n",
       "   'credentials': [{'label': 'Login ID', 'name': 'username', 'type': 'text'},\n",
       "    {'label': 'Password', 'name': 'password', 'type': 'password'}],\n",
       "   'has_mfa': True,\n",
       "   'input_spec': 'fixed',\n",
       "   'institution_id': 'ins_113968',\n",
       "   'mfa': ['questions'],\n",
       "   'mfa_code_type': 'numeric',\n",
       "   'name': 'Amegy Bank of Texas - Personal Banking',\n",
       "   'products': ['assets', 'auth', 'balance', 'transactions', 'income'],\n",
       "   'routing_numbers': []},\n",
       "  {'country_codes': ['US'],\n",
       "   'credentials': [{'label': 'User ID', 'name': 'username', 'type': 'text'},\n",
       "    {'label': 'Password', 'name': 'password', 'type': 'password'}],\n",
       "   'has_mfa': False,\n",
       "   'input_spec': 'fixed',\n",
       "   'institution_id': 'ins_10',\n",
       "   'mfa': [],\n",
       "   'mfa_code_type': 'numeric',\n",
       "   'name': 'American Express',\n",
       "   'products': ['assets', 'balance', 'transactions', 'income', 'liabilities'],\n",
       "   'routing_numbers': []},\n",
       "  {'country_codes': ['US'],\n",
       "   'credentials': [{'label': 'User Name', 'name': 'username', 'type': 'text'},\n",
       "    {'label': 'Password', 'name': 'password', 'type': 'password'}],\n",
       "   'has_mfa': True,\n",
       "   'input_spec': 'fixed',\n",
       "   'institution_id': 'ins_114157',\n",
       "   'mfa': ['code', 'list', 'questions', 'selections'],\n",
       "   'mfa_code_type': 'numeric',\n",
       "   'name': 'American Express - Personal Savings',\n",
       "   'products': ['assets', 'balance', 'transactions', 'income'],\n",
       "   'routing_numbers': []}],\n",
       " 'request_id': 'tKWHMw7C8uGZhTc',\n",
       " 'total': 10408}"
      ]
     },
     "execution_count": 135,
     "metadata": {},
     "output_type": "execute_result"
    }
   ],
   "source": [
    "client.Institutions.get(4)"
   ]
  },
  {
   "cell_type": "code",
   "execution_count": 136,
   "metadata": {},
   "outputs": [],
   "source": [
    "# Account Transactions with Plaid"
   ]
  },
  {
   "cell_type": "code",
   "execution_count": 137,
   "metadata": {},
   "outputs": [],
   "source": [
    "# 1. Fetch the Transactions for the last 90 days"
   ]
  },
  {
   "cell_type": "code",
   "execution_count": 138,
   "metadata": {},
   "outputs": [
    {
     "name": "stdout",
     "output_type": "stream",
     "text": [
      "[\n",
      "    {\n",
      "        \"account_id\": \"XlJX9Z3gQLImgZ69xMdVh8Loj3NPXBidmzbp9\",\n",
      "        \"account_owner\": null,\n",
      "        \"amount\": 500,\n",
      "        \"category\": [\n",
      "            \"Travel\",\n",
      "            \"Airlines and Aviation Services\"\n",
      "        ],\n",
      "        \"category_id\": \"22001000\",\n",
      "        \"date\": \"2019-09-03\",\n",
      "        \"iso_currency_code\": \"USD\",\n",
      "        \"location\": {\n",
      "            \"address\": null,\n",
      "            \"city\": null,\n",
      "            \"country\": null,\n",
      "            \"lat\": null,\n",
      "            \"lon\": null,\n",
      "            \"postal_code\": null,\n",
      "            \"region\": null,\n",
      "            \"store_number\": null\n",
      "        },\n",
      "        \"name\": \"United Airlines\",\n",
      "        \"payment_meta\": {\n",
      "            \"by_order_of\": null,\n",
      "            \"payee\": null,\n",
      "            \"payer\": null,\n",
      "            \"payment_method\": null,\n",
      "            \"payment_processor\": null,\n",
      "            \"ppd_id\": null,\n",
      "            \"reason\": null,\n",
      "            \"reference_number\": null\n",
      "        },\n",
      "        \"pending\": false,\n",
      "        \"pending_transaction_id\": null,\n",
      "        \"transaction_id\": \"XlJX9Z3gQLImgZ69xMdVh8L8pXjpBLtd6nmMy\",\n",
      "        \"transaction_type\": \"special\",\n",
      "        \"unofficial_currency_code\": null\n",
      "    },\n",
      "    {\n",
      "        \"account_id\": \"vzQGkj6M3aS7deoxbPXAhxdLA5DzNaFWM4qan\",\n",
      "        \"account_owner\": null,\n",
      "        \"amount\": 6.33,\n",
      "        \"category\": [\n",
      "            \"Travel\",\n",
      "            \"Car Service\",\n",
      "            \"Ride Share\"\n",
      "        ],\n",
      "        \"category_id\": \"22006001\",\n",
      "        \"date\": \"2019-09-01\",\n",
      "        \"iso_currency_code\": \"USD\",\n",
      "        \"location\": {\n",
      "            \"address\": null,\n",
      "            \"city\": null,\n",
      "            \"country\": null,\n",
      "            \"lat\": null,\n",
      "            \"lon\": null,\n",
      "            \"postal_code\": null,\n",
      "            \"region\": null,\n",
      "            \"store_number\": null\n",
      "        },\n",
      "        \"name\": \"Uber 072515 SF**POOL**\",\n",
      "        \"payment_meta\": {\n",
      "            \"by_order_of\": null,\n",
      "            \"payee\": null,\n",
      "            \"payer\": null,\n",
      "            \"payment_method\": null,\n",
      "            \"payment_processor\": null,\n",
      "            \"ppd_id\": null,\n",
      "            \"reason\": null,\n",
      "            \"reference_number\": null\n",
      "        },\n",
      "        \"pending\": false,\n",
      "        \"pending_transaction_id\": null,\n",
      "        \"transaction_id\": \"GaXLmlVyRrfeLlGvEQxahPXPqwzqgXu1BP5NL\",\n",
      "        \"transaction_type\": \"special\",\n",
      "        \"unofficial_currency_code\": null\n",
      "    }\n",
      "]\n"
     ]
    }
   ],
   "source": [
    "# my access_token is exchange response\n",
    "start_date = '{:%Y-%m-%d}'.format(datetime.datetime.now() + datetime.timedelta(-90))\n",
    "end_date = '{:%Y-%m-%d}'.format(datetime.datetime.now())\n",
    "transaction_response = client.Transactions.get(access_token,start_date,end_date)\n",
    "print(json.dumps(transaction_response['transactions'][:2],indent=4, sort_keys=True))"
   ]
  },
  {
   "cell_type": "code",
   "execution_count": 139,
   "metadata": {},
   "outputs": [
    {
     "data": {
      "text/plain": [
       "dict_keys(['accounts', 'item', 'request_id', 'total_transactions', 'transactions'])"
      ]
     },
     "execution_count": 139,
     "metadata": {},
     "output_type": "execute_result"
    }
   ],
   "source": [
    "transaction_response.keys()"
   ]
  },
  {
   "cell_type": "code",
   "execution_count": 140,
   "metadata": {},
   "outputs": [
    {
     "data": {
      "text/plain": [
       "48"
      ]
     },
     "execution_count": 140,
     "metadata": {},
     "output_type": "execute_result"
    }
   ],
   "source": [
    "len(transaction_response[\"transactions\"])"
   ]
  },
  {
   "cell_type": "code",
   "execution_count": 141,
   "metadata": {},
   "outputs": [
    {
     "data": {
      "text/plain": [
       "{'account_id': 'XlJX9Z3gQLImgZ69xMdVh8Loj3NPXBidmzbp9',\n",
       " 'account_owner': None,\n",
       " 'amount': 500,\n",
       " 'category': ['Travel', 'Airlines and Aviation Services'],\n",
       " 'category_id': '22001000',\n",
       " 'date': '2019-09-03',\n",
       " 'iso_currency_code': 'USD',\n",
       " 'location': {'address': None,\n",
       "  'city': None,\n",
       "  'country': None,\n",
       "  'lat': None,\n",
       "  'lon': None,\n",
       "  'postal_code': None,\n",
       "  'region': None,\n",
       "  'store_number': None},\n",
       " 'name': 'United Airlines',\n",
       " 'payment_meta': {'by_order_of': None,\n",
       "  'payee': None,\n",
       "  'payer': None,\n",
       "  'payment_method': None,\n",
       "  'payment_processor': None,\n",
       "  'ppd_id': None,\n",
       "  'reason': None,\n",
       "  'reference_number': None},\n",
       " 'pending': False,\n",
       " 'pending_transaction_id': None,\n",
       " 'transaction_id': 'XlJX9Z3gQLImgZ69xMdVh8L8pXjpBLtd6nmMy',\n",
       " 'transaction_type': 'special',\n",
       " 'unofficial_currency_code': None}"
      ]
     },
     "execution_count": 141,
     "metadata": {},
     "output_type": "execute_result"
    }
   ],
   "source": [
    "transaction_response[\"transactions\"][0]"
   ]
  },
  {
   "cell_type": "code",
   "execution_count": 142,
   "metadata": {},
   "outputs": [],
   "source": [
    "# 2. Print the categories for each transaction\n"
   ]
  },
  {
   "cell_type": "code",
   "execution_count": 143,
   "metadata": {},
   "outputs": [
    {
     "name": "stdout",
     "output_type": "stream",
     "text": [
      "['Travel', 'Airlines and Aviation Services']\n",
      "['Travel', 'Car Service', 'Ride Share']\n",
      "['Food and Drink', 'Restaurants']\n",
      "['Payment']\n",
      "['Food and Drink', 'Restaurants']\n",
      "['Shops', 'Sporting Goods']\n",
      "['Payment', 'Credit Card']\n",
      "['Travel', 'Car Service', 'Ride Share']\n",
      "['Transfer', 'Debit']\n",
      "['Transfer', 'Deposit']\n",
      "['Recreation', 'Gyms and Fitness Centers']\n",
      "['Travel', 'Airlines and Aviation Services']\n",
      "['Food and Drink', 'Restaurants']\n",
      "['Food and Drink', 'Restaurants', 'Coffee Shop']\n",
      "['Food and Drink', 'Restaurants']\n",
      "['Transfer', 'Credit']\n",
      "['Travel', 'Airlines and Aviation Services']\n",
      "['Travel', 'Car Service', 'Ride Share']\n",
      "['Food and Drink', 'Restaurants']\n",
      "['Payment']\n",
      "['Food and Drink', 'Restaurants']\n",
      "['Shops', 'Sporting Goods']\n",
      "['Payment', 'Credit Card']\n",
      "['Travel', 'Car Service', 'Ride Share']\n",
      "['Transfer', 'Debit']\n",
      "['Transfer', 'Deposit']\n",
      "['Recreation', 'Gyms and Fitness Centers']\n",
      "['Travel', 'Airlines and Aviation Services']\n",
      "['Food and Drink', 'Restaurants']\n",
      "['Food and Drink', 'Restaurants', 'Coffee Shop']\n",
      "['Food and Drink', 'Restaurants']\n",
      "['Transfer', 'Credit']\n",
      "['Travel', 'Airlines and Aviation Services']\n",
      "['Travel', 'Car Service', 'Ride Share']\n",
      "['Food and Drink', 'Restaurants']\n",
      "['Payment']\n",
      "['Food and Drink', 'Restaurants']\n",
      "['Shops', 'Sporting Goods']\n",
      "['Payment', 'Credit Card']\n",
      "['Travel', 'Car Service', 'Ride Share']\n",
      "['Transfer', 'Debit']\n",
      "['Transfer', 'Deposit']\n",
      "['Recreation', 'Gyms and Fitness Centers']\n",
      "['Travel', 'Airlines and Aviation Services']\n",
      "['Food and Drink', 'Restaurants']\n",
      "['Food and Drink', 'Restaurants', 'Coffee Shop']\n",
      "['Food and Drink', 'Restaurants']\n",
      "['Transfer', 'Credit']\n"
     ]
    }
   ],
   "source": [
    "for transactions in transaction_response['transactions']:\n",
    "    print(transactions[\"category\"])"
   ]
  },
  {
   "cell_type": "code",
   "execution_count": 144,
   "metadata": {},
   "outputs": [],
   "source": [
    "# 3. Create a new data Frame using the following fields from the JSON transaction data:date, name, amount, category"
   ]
  },
  {
   "cell_type": "code",
   "execution_count": 145,
   "metadata": {},
   "outputs": [],
   "source": [
    "date=[]\n",
    "names=[]\n",
    "amount=[]\n",
    "category=[]\n",
    "for transactions in transaction_response['transactions']:\n",
    "    date.append(transactions[\"date\"])\n",
    "    names.append(transactions[\"name\"])\n",
    "    amount.append(transactions[\"amount\"])\n",
    "    category.append(transactions[\"category\"][0])\n"
   ]
  },
  {
   "cell_type": "code",
   "execution_count": 146,
   "metadata": {},
   "outputs": [],
   "source": [
    "transactions_df= pd.DataFrame({\n",
    "    \"date\":date,\n",
    "    \"name\":names,\n",
    "    \"amount\":amount,\n",
    "    \"category\":category\n",
    "    \n",
    "})"
   ]
  },
  {
   "cell_type": "code",
   "execution_count": 147,
   "metadata": {},
   "outputs": [
    {
     "data": {
      "text/html": [
       "<div>\n",
       "<style scoped>\n",
       "    .dataframe tbody tr th:only-of-type {\n",
       "        vertical-align: middle;\n",
       "    }\n",
       "\n",
       "    .dataframe tbody tr th {\n",
       "        vertical-align: top;\n",
       "    }\n",
       "\n",
       "    .dataframe thead th {\n",
       "        text-align: right;\n",
       "    }\n",
       "</style>\n",
       "<table border=\"1\" class=\"dataframe\">\n",
       "  <thead>\n",
       "    <tr style=\"text-align: right;\">\n",
       "      <th></th>\n",
       "      <th>date</th>\n",
       "      <th>name</th>\n",
       "      <th>amount</th>\n",
       "      <th>category</th>\n",
       "    </tr>\n",
       "  </thead>\n",
       "  <tbody>\n",
       "    <tr>\n",
       "      <th>0</th>\n",
       "      <td>2019-09-03</td>\n",
       "      <td>United Airlines</td>\n",
       "      <td>500.00</td>\n",
       "      <td>Travel</td>\n",
       "    </tr>\n",
       "    <tr>\n",
       "      <th>1</th>\n",
       "      <td>2019-09-01</td>\n",
       "      <td>Uber 072515 SF**POOL**</td>\n",
       "      <td>6.33</td>\n",
       "      <td>Travel</td>\n",
       "    </tr>\n",
       "    <tr>\n",
       "      <th>2</th>\n",
       "      <td>2019-08-29</td>\n",
       "      <td>Tectra Inc</td>\n",
       "      <td>500.00</td>\n",
       "      <td>Food and Drink</td>\n",
       "    </tr>\n",
       "    <tr>\n",
       "      <th>3</th>\n",
       "      <td>2019-08-28</td>\n",
       "      <td>AUTOMATIC PAYMENT - THANK</td>\n",
       "      <td>2078.50</td>\n",
       "      <td>Payment</td>\n",
       "    </tr>\n",
       "    <tr>\n",
       "      <th>4</th>\n",
       "      <td>2019-08-28</td>\n",
       "      <td>KFC</td>\n",
       "      <td>500.00</td>\n",
       "      <td>Food and Drink</td>\n",
       "    </tr>\n",
       "    <tr>\n",
       "      <th>5</th>\n",
       "      <td>2019-08-28</td>\n",
       "      <td>Madison Bicycle Shop</td>\n",
       "      <td>500.00</td>\n",
       "      <td>Shops</td>\n",
       "    </tr>\n",
       "    <tr>\n",
       "      <th>6</th>\n",
       "      <td>2019-08-19</td>\n",
       "      <td>CREDIT CARD 3333 PAYMENT *//</td>\n",
       "      <td>25.00</td>\n",
       "      <td>Payment</td>\n",
       "    </tr>\n",
       "    <tr>\n",
       "      <th>7</th>\n",
       "      <td>2019-08-19</td>\n",
       "      <td>Uber 063015 SF**POOL**</td>\n",
       "      <td>5.40</td>\n",
       "      <td>Travel</td>\n",
       "    </tr>\n",
       "    <tr>\n",
       "      <th>8</th>\n",
       "      <td>2019-08-18</td>\n",
       "      <td>ACH Electronic CreditGUSTO PAY 123456</td>\n",
       "      <td>5850.00</td>\n",
       "      <td>Transfer</td>\n",
       "    </tr>\n",
       "    <tr>\n",
       "      <th>9</th>\n",
       "      <td>2019-08-18</td>\n",
       "      <td>CD DEPOSIT .INITIAL.</td>\n",
       "      <td>1000.00</td>\n",
       "      <td>Transfer</td>\n",
       "    </tr>\n",
       "    <tr>\n",
       "      <th>10</th>\n",
       "      <td>2019-08-17</td>\n",
       "      <td>Touchstone Climbing</td>\n",
       "      <td>78.50</td>\n",
       "      <td>Recreation</td>\n",
       "    </tr>\n",
       "    <tr>\n",
       "      <th>11</th>\n",
       "      <td>2019-08-17</td>\n",
       "      <td>United Airlines</td>\n",
       "      <td>-500.00</td>\n",
       "      <td>Travel</td>\n",
       "    </tr>\n",
       "    <tr>\n",
       "      <th>12</th>\n",
       "      <td>2019-08-16</td>\n",
       "      <td>McDonald's</td>\n",
       "      <td>12.00</td>\n",
       "      <td>Food and Drink</td>\n",
       "    </tr>\n",
       "    <tr>\n",
       "      <th>13</th>\n",
       "      <td>2019-08-16</td>\n",
       "      <td>Starbucks</td>\n",
       "      <td>4.33</td>\n",
       "      <td>Food and Drink</td>\n",
       "    </tr>\n",
       "    <tr>\n",
       "      <th>14</th>\n",
       "      <td>2019-08-15</td>\n",
       "      <td>SparkFun</td>\n",
       "      <td>89.40</td>\n",
       "      <td>Food and Drink</td>\n",
       "    </tr>\n",
       "    <tr>\n",
       "      <th>15</th>\n",
       "      <td>2019-08-14</td>\n",
       "      <td>INTRST PYMNT</td>\n",
       "      <td>-4.22</td>\n",
       "      <td>Transfer</td>\n",
       "    </tr>\n",
       "    <tr>\n",
       "      <th>16</th>\n",
       "      <td>2019-08-04</td>\n",
       "      <td>United Airlines</td>\n",
       "      <td>500.00</td>\n",
       "      <td>Travel</td>\n",
       "    </tr>\n",
       "    <tr>\n",
       "      <th>17</th>\n",
       "      <td>2019-08-02</td>\n",
       "      <td>Uber 072515 SF**POOL**</td>\n",
       "      <td>6.33</td>\n",
       "      <td>Travel</td>\n",
       "    </tr>\n",
       "    <tr>\n",
       "      <th>18</th>\n",
       "      <td>2019-07-30</td>\n",
       "      <td>Tectra Inc</td>\n",
       "      <td>500.00</td>\n",
       "      <td>Food and Drink</td>\n",
       "    </tr>\n",
       "    <tr>\n",
       "      <th>19</th>\n",
       "      <td>2019-07-29</td>\n",
       "      <td>AUTOMATIC PAYMENT - THANK</td>\n",
       "      <td>2078.50</td>\n",
       "      <td>Payment</td>\n",
       "    </tr>\n",
       "    <tr>\n",
       "      <th>20</th>\n",
       "      <td>2019-07-29</td>\n",
       "      <td>KFC</td>\n",
       "      <td>500.00</td>\n",
       "      <td>Food and Drink</td>\n",
       "    </tr>\n",
       "    <tr>\n",
       "      <th>21</th>\n",
       "      <td>2019-07-29</td>\n",
       "      <td>Madison Bicycle Shop</td>\n",
       "      <td>500.00</td>\n",
       "      <td>Shops</td>\n",
       "    </tr>\n",
       "    <tr>\n",
       "      <th>22</th>\n",
       "      <td>2019-07-20</td>\n",
       "      <td>CREDIT CARD 3333 PAYMENT *//</td>\n",
       "      <td>25.00</td>\n",
       "      <td>Payment</td>\n",
       "    </tr>\n",
       "    <tr>\n",
       "      <th>23</th>\n",
       "      <td>2019-07-20</td>\n",
       "      <td>Uber 063015 SF**POOL**</td>\n",
       "      <td>5.40</td>\n",
       "      <td>Travel</td>\n",
       "    </tr>\n",
       "    <tr>\n",
       "      <th>24</th>\n",
       "      <td>2019-07-19</td>\n",
       "      <td>ACH Electronic CreditGUSTO PAY 123456</td>\n",
       "      <td>5850.00</td>\n",
       "      <td>Transfer</td>\n",
       "    </tr>\n",
       "    <tr>\n",
       "      <th>25</th>\n",
       "      <td>2019-07-19</td>\n",
       "      <td>CD DEPOSIT .INITIAL.</td>\n",
       "      <td>1000.00</td>\n",
       "      <td>Transfer</td>\n",
       "    </tr>\n",
       "    <tr>\n",
       "      <th>26</th>\n",
       "      <td>2019-07-18</td>\n",
       "      <td>Touchstone Climbing</td>\n",
       "      <td>78.50</td>\n",
       "      <td>Recreation</td>\n",
       "    </tr>\n",
       "    <tr>\n",
       "      <th>27</th>\n",
       "      <td>2019-07-18</td>\n",
       "      <td>United Airlines</td>\n",
       "      <td>-500.00</td>\n",
       "      <td>Travel</td>\n",
       "    </tr>\n",
       "    <tr>\n",
       "      <th>28</th>\n",
       "      <td>2019-07-17</td>\n",
       "      <td>McDonald's</td>\n",
       "      <td>12.00</td>\n",
       "      <td>Food and Drink</td>\n",
       "    </tr>\n",
       "    <tr>\n",
       "      <th>29</th>\n",
       "      <td>2019-07-17</td>\n",
       "      <td>Starbucks</td>\n",
       "      <td>4.33</td>\n",
       "      <td>Food and Drink</td>\n",
       "    </tr>\n",
       "    <tr>\n",
       "      <th>30</th>\n",
       "      <td>2019-07-16</td>\n",
       "      <td>SparkFun</td>\n",
       "      <td>89.40</td>\n",
       "      <td>Food and Drink</td>\n",
       "    </tr>\n",
       "    <tr>\n",
       "      <th>31</th>\n",
       "      <td>2019-07-15</td>\n",
       "      <td>INTRST PYMNT</td>\n",
       "      <td>-4.22</td>\n",
       "      <td>Transfer</td>\n",
       "    </tr>\n",
       "    <tr>\n",
       "      <th>32</th>\n",
       "      <td>2019-07-05</td>\n",
       "      <td>United Airlines</td>\n",
       "      <td>500.00</td>\n",
       "      <td>Travel</td>\n",
       "    </tr>\n",
       "    <tr>\n",
       "      <th>33</th>\n",
       "      <td>2019-07-03</td>\n",
       "      <td>Uber 072515 SF**POOL**</td>\n",
       "      <td>6.33</td>\n",
       "      <td>Travel</td>\n",
       "    </tr>\n",
       "    <tr>\n",
       "      <th>34</th>\n",
       "      <td>2019-06-30</td>\n",
       "      <td>Tectra Inc</td>\n",
       "      <td>500.00</td>\n",
       "      <td>Food and Drink</td>\n",
       "    </tr>\n",
       "    <tr>\n",
       "      <th>35</th>\n",
       "      <td>2019-06-29</td>\n",
       "      <td>AUTOMATIC PAYMENT - THANK</td>\n",
       "      <td>2078.50</td>\n",
       "      <td>Payment</td>\n",
       "    </tr>\n",
       "    <tr>\n",
       "      <th>36</th>\n",
       "      <td>2019-06-29</td>\n",
       "      <td>KFC</td>\n",
       "      <td>500.00</td>\n",
       "      <td>Food and Drink</td>\n",
       "    </tr>\n",
       "    <tr>\n",
       "      <th>37</th>\n",
       "      <td>2019-06-29</td>\n",
       "      <td>Madison Bicycle Shop</td>\n",
       "      <td>500.00</td>\n",
       "      <td>Shops</td>\n",
       "    </tr>\n",
       "    <tr>\n",
       "      <th>38</th>\n",
       "      <td>2019-06-20</td>\n",
       "      <td>CREDIT CARD 3333 PAYMENT *//</td>\n",
       "      <td>25.00</td>\n",
       "      <td>Payment</td>\n",
       "    </tr>\n",
       "    <tr>\n",
       "      <th>39</th>\n",
       "      <td>2019-06-20</td>\n",
       "      <td>Uber 063015 SF**POOL**</td>\n",
       "      <td>5.40</td>\n",
       "      <td>Travel</td>\n",
       "    </tr>\n",
       "    <tr>\n",
       "      <th>40</th>\n",
       "      <td>2019-06-19</td>\n",
       "      <td>ACH Electronic CreditGUSTO PAY 123456</td>\n",
       "      <td>5850.00</td>\n",
       "      <td>Transfer</td>\n",
       "    </tr>\n",
       "    <tr>\n",
       "      <th>41</th>\n",
       "      <td>2019-06-19</td>\n",
       "      <td>CD DEPOSIT .INITIAL.</td>\n",
       "      <td>1000.00</td>\n",
       "      <td>Transfer</td>\n",
       "    </tr>\n",
       "    <tr>\n",
       "      <th>42</th>\n",
       "      <td>2019-06-18</td>\n",
       "      <td>Touchstone Climbing</td>\n",
       "      <td>78.50</td>\n",
       "      <td>Recreation</td>\n",
       "    </tr>\n",
       "    <tr>\n",
       "      <th>43</th>\n",
       "      <td>2019-06-18</td>\n",
       "      <td>United Airlines</td>\n",
       "      <td>-500.00</td>\n",
       "      <td>Travel</td>\n",
       "    </tr>\n",
       "    <tr>\n",
       "      <th>44</th>\n",
       "      <td>2019-06-17</td>\n",
       "      <td>McDonald's</td>\n",
       "      <td>12.00</td>\n",
       "      <td>Food and Drink</td>\n",
       "    </tr>\n",
       "    <tr>\n",
       "      <th>45</th>\n",
       "      <td>2019-06-17</td>\n",
       "      <td>Starbucks</td>\n",
       "      <td>4.33</td>\n",
       "      <td>Food and Drink</td>\n",
       "    </tr>\n",
       "    <tr>\n",
       "      <th>46</th>\n",
       "      <td>2019-06-16</td>\n",
       "      <td>SparkFun</td>\n",
       "      <td>89.40</td>\n",
       "      <td>Food and Drink</td>\n",
       "    </tr>\n",
       "    <tr>\n",
       "      <th>47</th>\n",
       "      <td>2019-06-15</td>\n",
       "      <td>INTRST PYMNT</td>\n",
       "      <td>-4.22</td>\n",
       "      <td>Transfer</td>\n",
       "    </tr>\n",
       "  </tbody>\n",
       "</table>\n",
       "</div>"
      ],
      "text/plain": [
       "          date                                   name   amount        category\n",
       "0   2019-09-03                        United Airlines   500.00          Travel\n",
       "1   2019-09-01                 Uber 072515 SF**POOL**     6.33          Travel\n",
       "2   2019-08-29                             Tectra Inc   500.00  Food and Drink\n",
       "3   2019-08-28              AUTOMATIC PAYMENT - THANK  2078.50         Payment\n",
       "4   2019-08-28                                    KFC   500.00  Food and Drink\n",
       "5   2019-08-28                   Madison Bicycle Shop   500.00           Shops\n",
       "6   2019-08-19           CREDIT CARD 3333 PAYMENT *//    25.00         Payment\n",
       "7   2019-08-19                 Uber 063015 SF**POOL**     5.40          Travel\n",
       "8   2019-08-18  ACH Electronic CreditGUSTO PAY 123456  5850.00        Transfer\n",
       "9   2019-08-18                   CD DEPOSIT .INITIAL.  1000.00        Transfer\n",
       "10  2019-08-17                    Touchstone Climbing    78.50      Recreation\n",
       "11  2019-08-17                        United Airlines  -500.00          Travel\n",
       "12  2019-08-16                             McDonald's    12.00  Food and Drink\n",
       "13  2019-08-16                              Starbucks     4.33  Food and Drink\n",
       "14  2019-08-15                               SparkFun    89.40  Food and Drink\n",
       "15  2019-08-14                           INTRST PYMNT    -4.22        Transfer\n",
       "16  2019-08-04                        United Airlines   500.00          Travel\n",
       "17  2019-08-02                 Uber 072515 SF**POOL**     6.33          Travel\n",
       "18  2019-07-30                             Tectra Inc   500.00  Food and Drink\n",
       "19  2019-07-29              AUTOMATIC PAYMENT - THANK  2078.50         Payment\n",
       "20  2019-07-29                                    KFC   500.00  Food and Drink\n",
       "21  2019-07-29                   Madison Bicycle Shop   500.00           Shops\n",
       "22  2019-07-20           CREDIT CARD 3333 PAYMENT *//    25.00         Payment\n",
       "23  2019-07-20                 Uber 063015 SF**POOL**     5.40          Travel\n",
       "24  2019-07-19  ACH Electronic CreditGUSTO PAY 123456  5850.00        Transfer\n",
       "25  2019-07-19                   CD DEPOSIT .INITIAL.  1000.00        Transfer\n",
       "26  2019-07-18                    Touchstone Climbing    78.50      Recreation\n",
       "27  2019-07-18                        United Airlines  -500.00          Travel\n",
       "28  2019-07-17                             McDonald's    12.00  Food and Drink\n",
       "29  2019-07-17                              Starbucks     4.33  Food and Drink\n",
       "30  2019-07-16                               SparkFun    89.40  Food and Drink\n",
       "31  2019-07-15                           INTRST PYMNT    -4.22        Transfer\n",
       "32  2019-07-05                        United Airlines   500.00          Travel\n",
       "33  2019-07-03                 Uber 072515 SF**POOL**     6.33          Travel\n",
       "34  2019-06-30                             Tectra Inc   500.00  Food and Drink\n",
       "35  2019-06-29              AUTOMATIC PAYMENT - THANK  2078.50         Payment\n",
       "36  2019-06-29                                    KFC   500.00  Food and Drink\n",
       "37  2019-06-29                   Madison Bicycle Shop   500.00           Shops\n",
       "38  2019-06-20           CREDIT CARD 3333 PAYMENT *//    25.00         Payment\n",
       "39  2019-06-20                 Uber 063015 SF**POOL**     5.40          Travel\n",
       "40  2019-06-19  ACH Electronic CreditGUSTO PAY 123456  5850.00        Transfer\n",
       "41  2019-06-19                   CD DEPOSIT .INITIAL.  1000.00        Transfer\n",
       "42  2019-06-18                    Touchstone Climbing    78.50      Recreation\n",
       "43  2019-06-18                        United Airlines  -500.00          Travel\n",
       "44  2019-06-17                             McDonald's    12.00  Food and Drink\n",
       "45  2019-06-17                              Starbucks     4.33  Food and Drink\n",
       "46  2019-06-16                               SparkFun    89.40  Food and Drink\n",
       "47  2019-06-15                           INTRST PYMNT    -4.22        Transfer"
      ]
     },
     "execution_count": 147,
     "metadata": {},
     "output_type": "execute_result"
    }
   ],
   "source": [
    "transactions_df"
   ]
  },
  {
   "cell_type": "code",
   "execution_count": 148,
   "metadata": {},
   "outputs": [],
   "source": [
    "# 4. Convert the data types to the appropriate types"
   ]
  },
  {
   "cell_type": "code",
   "execution_count": 149,
   "metadata": {},
   "outputs": [
    {
     "data": {
      "text/plain": [
       "date         object\n",
       "name         object\n",
       "amount      float64\n",
       "category     object\n",
       "dtype: object"
      ]
     },
     "execution_count": 149,
     "metadata": {},
     "output_type": "execute_result"
    }
   ],
   "source": [
    "transactions_df.dtypes"
   ]
  },
  {
   "cell_type": "code",
   "execution_count": 150,
   "metadata": {},
   "outputs": [],
   "source": [
    "transactions_df['date'] = pd.to_datetime(transactions_df['date'])"
   ]
  },
  {
   "cell_type": "code",
   "execution_count": 151,
   "metadata": {},
   "outputs": [
    {
     "data": {
      "text/plain": [
       "date        datetime64[ns]\n",
       "name                object\n",
       "amount             float64\n",
       "category            object\n",
       "dtype: object"
      ]
     },
     "execution_count": 151,
     "metadata": {},
     "output_type": "execute_result"
    }
   ],
   "source": [
    "transactions_df.dtypes"
   ]
  },
  {
   "cell_type": "code",
   "execution_count": 152,
   "metadata": {},
   "outputs": [],
   "source": [
    "transactions_df['amount'] = transactions_df.amount.astype('float')"
   ]
  },
  {
   "cell_type": "code",
   "execution_count": 153,
   "metadata": {},
   "outputs": [
    {
     "data": {
      "text/plain": [
       "date        datetime64[ns]\n",
       "name                object\n",
       "amount             float64\n",
       "category            object\n",
       "dtype: object"
      ]
     },
     "execution_count": 153,
     "metadata": {},
     "output_type": "execute_result"
    }
   ],
   "source": [
    "transactions_df.dtypes"
   ]
  },
  {
   "cell_type": "code",
   "execution_count": 154,
   "metadata": {},
   "outputs": [],
   "source": [
    "# Income Analysis with Plaid"
   ]
  },
  {
   "cell_type": "code",
   "execution_count": 155,
   "metadata": {},
   "outputs": [],
   "source": [
    "# 1. Determining the previous year's gross income and print the results"
   ]
  },
  {
   "cell_type": "code",
   "execution_count": 156,
   "metadata": {},
   "outputs": [
    {
     "data": {
      "text/plain": [
       "{'income': {'income_streams': [{'confidence': 0.99,\n",
       "    'days': 690,\n",
       "    'monthly_income': 500,\n",
       "    'name': 'UNITED AIRLINES'}],\n",
       "  'last_year_income': 6000,\n",
       "  'last_year_income_before_tax': 7285,\n",
       "  'max_number_of_overlapping_income_streams': 1,\n",
       "  'number_of_income_streams': 1,\n",
       "  'projected_yearly_income': 6085,\n",
       "  'projected_yearly_income_before_tax': 7389},\n",
       " 'request_id': 'sf6ScvotbANRiZ5'}"
      ]
     },
     "execution_count": 156,
     "metadata": {},
     "output_type": "execute_result"
    }
   ],
   "source": [
    "response = client.Income.get(access_token)\n",
    "response\n"
   ]
  },
  {
   "cell_type": "code",
   "execution_count": 157,
   "metadata": {},
   "outputs": [
    {
     "data": {
      "text/plain": [
       "dict_keys(['income', 'request_id'])"
      ]
     },
     "execution_count": 157,
     "metadata": {},
     "output_type": "execute_result"
    }
   ],
   "source": [
    "response.keys()"
   ]
  },
  {
   "cell_type": "code",
   "execution_count": 158,
   "metadata": {},
   "outputs": [
    {
     "data": {
      "text/plain": [
       "7"
      ]
     },
     "execution_count": 158,
     "metadata": {},
     "output_type": "execute_result"
    }
   ],
   "source": [
    "len(response[\"income\"])"
   ]
  },
  {
   "cell_type": "code",
   "execution_count": 159,
   "metadata": {},
   "outputs": [],
   "source": [
    "previous_year_gross_income = response[\"income\"][\"last_year_income_before_tax\"]"
   ]
  },
  {
   "cell_type": "code",
   "execution_count": 160,
   "metadata": {},
   "outputs": [
    {
     "name": "stdout",
     "output_type": "stream",
     "text": [
      "The previous year's gross income is 7285\n"
     ]
    }
   ],
   "source": [
    "print(f\"The previous year's gross income is {previous_year_gross_income}\")"
   ]
  },
  {
   "cell_type": "code",
   "execution_count": null,
   "metadata": {},
   "outputs": [],
   "source": []
  },
  {
   "cell_type": "code",
   "execution_count": 161,
   "metadata": {},
   "outputs": [],
   "source": [
    "# 2. Determine the current monthly income and print the results"
   ]
  },
  {
   "cell_type": "code",
   "execution_count": 162,
   "metadata": {},
   "outputs": [],
   "source": [
    "previous_year_gross_income = response[\"income\"][\"income_streams\"][0][\"monthly_income\"]"
   ]
  },
  {
   "cell_type": "code",
   "execution_count": 163,
   "metadata": {},
   "outputs": [
    {
     "name": "stdout",
     "output_type": "stream",
     "text": [
      " The current monthly income is 500\n"
     ]
    }
   ],
   "source": [
    "print(f\" The current monthly income is {previous_year_gross_income}\")"
   ]
  },
  {
   "cell_type": "code",
   "execution_count": 164,
   "metadata": {},
   "outputs": [],
   "source": [
    "# 3. Determine the projected yearly income and print the results"
   ]
  },
  {
   "cell_type": "code",
   "execution_count": 165,
   "metadata": {},
   "outputs": [],
   "source": [
    "projected_yearly_gross_income = response[\"income\"][\"projected_yearly_income_before_tax\"]"
   ]
  },
  {
   "cell_type": "code",
   "execution_count": 166,
   "metadata": {},
   "outputs": [
    {
     "name": "stdout",
     "output_type": "stream",
     "text": [
      "The projected yearly income is 7389\n"
     ]
    }
   ],
   "source": [
    "# Assuming that projected yearly income is before tax to be consistent with the previous year's gross income.\n",
    "print(f\"The projected yearly income is {projected_yearly_gross_income}\")"
   ]
  },
  {
   "cell_type": "code",
   "execution_count": 167,
   "metadata": {},
   "outputs": [],
   "source": [
    "# Budget Analysis"
   ]
  },
  {
   "cell_type": "code",
   "execution_count": 168,
   "metadata": {},
   "outputs": [],
   "source": [
    "## Calculate the total expenses per category"
   ]
  },
  {
   "cell_type": "code",
   "execution_count": 169,
   "metadata": {},
   "outputs": [
    {
     "data": {
      "text/html": [
       "<div>\n",
       "<style scoped>\n",
       "    .dataframe tbody tr th:only-of-type {\n",
       "        vertical-align: middle;\n",
       "    }\n",
       "\n",
       "    .dataframe tbody tr th {\n",
       "        vertical-align: top;\n",
       "    }\n",
       "\n",
       "    .dataframe thead th {\n",
       "        text-align: right;\n",
       "    }\n",
       "</style>\n",
       "<table border=\"1\" class=\"dataframe\">\n",
       "  <thead>\n",
       "    <tr style=\"text-align: right;\">\n",
       "      <th></th>\n",
       "      <th>amount</th>\n",
       "    </tr>\n",
       "    <tr>\n",
       "      <th>category</th>\n",
       "      <th></th>\n",
       "    </tr>\n",
       "  </thead>\n",
       "  <tbody>\n",
       "    <tr>\n",
       "      <th>Food and Drink</th>\n",
       "      <td>3317.19</td>\n",
       "    </tr>\n",
       "    <tr>\n",
       "      <th>Payment</th>\n",
       "      <td>6310.50</td>\n",
       "    </tr>\n",
       "    <tr>\n",
       "      <th>Recreation</th>\n",
       "      <td>235.50</td>\n",
       "    </tr>\n",
       "    <tr>\n",
       "      <th>Shops</th>\n",
       "      <td>1500.00</td>\n",
       "    </tr>\n",
       "    <tr>\n",
       "      <th>Transfer</th>\n",
       "      <td>20537.34</td>\n",
       "    </tr>\n",
       "    <tr>\n",
       "      <th>Travel</th>\n",
       "      <td>35.19</td>\n",
       "    </tr>\n",
       "  </tbody>\n",
       "</table>\n",
       "</div>"
      ],
      "text/plain": [
       "                  amount\n",
       "category                \n",
       "Food and Drink   3317.19\n",
       "Payment          6310.50\n",
       "Recreation        235.50\n",
       "Shops            1500.00\n",
       "Transfer        20537.34\n",
       "Travel             35.19"
      ]
     },
     "execution_count": 169,
     "metadata": {},
     "output_type": "execute_result"
    }
   ],
   "source": [
    "expenses_category = transactions_df.groupby('category').sum()\n",
    "expenses_category"
   ]
  },
  {
   "cell_type": "code",
   "execution_count": 170,
   "metadata": {},
   "outputs": [
    {
     "data": {
      "text/html": [
       "<div>\n",
       "<style scoped>\n",
       "    .dataframe tbody tr th:only-of-type {\n",
       "        vertical-align: middle;\n",
       "    }\n",
       "\n",
       "    .dataframe tbody tr th {\n",
       "        vertical-align: top;\n",
       "    }\n",
       "\n",
       "    .dataframe thead th {\n",
       "        text-align: right;\n",
       "    }\n",
       "</style>\n",
       "<table border=\"1\" class=\"dataframe\">\n",
       "  <thead>\n",
       "    <tr style=\"text-align: right;\">\n",
       "      <th></th>\n",
       "      <th>date</th>\n",
       "      <th>name</th>\n",
       "      <th>amount</th>\n",
       "      <th>category</th>\n",
       "    </tr>\n",
       "  </thead>\n",
       "  <tbody>\n",
       "    <tr>\n",
       "      <th>0</th>\n",
       "      <td>2019-09-03</td>\n",
       "      <td>United Airlines</td>\n",
       "      <td>500.00</td>\n",
       "      <td>Travel</td>\n",
       "    </tr>\n",
       "    <tr>\n",
       "      <th>1</th>\n",
       "      <td>2019-09-01</td>\n",
       "      <td>Uber 072515 SF**POOL**</td>\n",
       "      <td>6.33</td>\n",
       "      <td>Travel</td>\n",
       "    </tr>\n",
       "    <tr>\n",
       "      <th>2</th>\n",
       "      <td>2019-08-29</td>\n",
       "      <td>Tectra Inc</td>\n",
       "      <td>500.00</td>\n",
       "      <td>Food and Drink</td>\n",
       "    </tr>\n",
       "    <tr>\n",
       "      <th>3</th>\n",
       "      <td>2019-08-28</td>\n",
       "      <td>AUTOMATIC PAYMENT - THANK</td>\n",
       "      <td>2078.50</td>\n",
       "      <td>Payment</td>\n",
       "    </tr>\n",
       "    <tr>\n",
       "      <th>4</th>\n",
       "      <td>2019-08-28</td>\n",
       "      <td>KFC</td>\n",
       "      <td>500.00</td>\n",
       "      <td>Food and Drink</td>\n",
       "    </tr>\n",
       "  </tbody>\n",
       "</table>\n",
       "</div>"
      ],
      "text/plain": [
       "        date                       name   amount        category\n",
       "0 2019-09-03            United Airlines   500.00          Travel\n",
       "1 2019-09-01     Uber 072515 SF**POOL**     6.33          Travel\n",
       "2 2019-08-29                 Tectra Inc   500.00  Food and Drink\n",
       "3 2019-08-28  AUTOMATIC PAYMENT - THANK  2078.50         Payment\n",
       "4 2019-08-28                        KFC   500.00  Food and Drink"
      ]
     },
     "execution_count": 170,
     "metadata": {},
     "output_type": "execute_result"
    }
   ],
   "source": [
    "transactions_df. head()"
   ]
  },
  {
   "cell_type": "code",
   "execution_count": 171,
   "metadata": {},
   "outputs": [],
   "source": [
    "## Generate a bar chart with the number of transactions for each category"
   ]
  },
  {
   "cell_type": "code",
   "execution_count": 172,
   "metadata": {},
   "outputs": [
    {
     "data": {
      "text/plain": [
       "<matplotlib.axes._subplots.AxesSubplot at 0x26c8fbc1d30>"
      ]
     },
     "execution_count": 172,
     "metadata": {},
     "output_type": "execute_result"
    },
    {
     "data": {
      "image/png": "[encoded data removed]",
      "text/plain": [
       "<Figure size 432x288 with 1 Axes>"
      ]
     },
     "metadata": {
      "needs_background": "light"
     },
     "output_type": "display_data"
    }
   ],
   "source": [
    "# Using value_count()\n",
    "count_category = transactions_df['category'].value_counts()\n",
    "count_category.plot(kind='bar')"
   ]
  },
  {
   "cell_type": "code",
   "execution_count": 173,
   "metadata": {},
   "outputs": [
    {
     "data": {
      "text/plain": [
       "<matplotlib.axes._subplots.AxesSubplot at 0x26c8fc84048>"
      ]
     },
     "execution_count": 173,
     "metadata": {},
     "output_type": "execute_result"
    },
    {
     "data": {
      "image/png": "[encoded data removed]",
      "text/plain": [
       "<Figure size 432x288 with 1 Axes>"
      ]
     },
     "metadata": {},
     "output_type": "display_data"
    }
   ],
   "source": [
    "count_category.plot.pie()"
   ]
  },
  {
   "cell_type": "code",
   "execution_count": 174,
   "metadata": {},
   "outputs": [
    {
     "data": {
      "text/html": [
       "<div>\n",
       "<style scoped>\n",
       "    .dataframe tbody tr th:only-of-type {\n",
       "        vertical-align: middle;\n",
       "    }\n",
       "\n",
       "    .dataframe tbody tr th {\n",
       "        vertical-align: top;\n",
       "    }\n",
       "\n",
       "    .dataframe thead th {\n",
       "        text-align: right;\n",
       "    }\n",
       "</style>\n",
       "<table border=\"1\" class=\"dataframe\">\n",
       "  <thead>\n",
       "    <tr style=\"text-align: right;\">\n",
       "      <th></th>\n",
       "      <th>amount</th>\n",
       "    </tr>\n",
       "    <tr>\n",
       "      <th>category</th>\n",
       "      <th></th>\n",
       "    </tr>\n",
       "  </thead>\n",
       "  <tbody>\n",
       "    <tr>\n",
       "      <th>Food and Drink</th>\n",
       "      <td>3317.19</td>\n",
       "    </tr>\n",
       "    <tr>\n",
       "      <th>Payment</th>\n",
       "      <td>6310.50</td>\n",
       "    </tr>\n",
       "    <tr>\n",
       "      <th>Recreation</th>\n",
       "      <td>235.50</td>\n",
       "    </tr>\n",
       "    <tr>\n",
       "      <th>Shops</th>\n",
       "      <td>1500.00</td>\n",
       "    </tr>\n",
       "    <tr>\n",
       "      <th>Transfer</th>\n",
       "      <td>20537.34</td>\n",
       "    </tr>\n",
       "    <tr>\n",
       "      <th>Travel</th>\n",
       "      <td>35.19</td>\n",
       "    </tr>\n",
       "  </tbody>\n",
       "</table>\n",
       "</div>"
      ],
      "text/plain": [
       "                  amount\n",
       "category                \n",
       "Food and Drink   3317.19\n",
       "Payment          6310.50\n",
       "Recreation        235.50\n",
       "Shops            1500.00\n",
       "Transfer        20537.34\n",
       "Travel             35.19"
      ]
     },
     "execution_count": 174,
     "metadata": {},
     "output_type": "execute_result"
    }
   ],
   "source": [
    "expenses_category = transactions_df.groupby('category').sum()\n",
    "expenses_category"
   ]
  },
  {
   "cell_type": "code",
   "execution_count": 175,
   "metadata": {},
   "outputs": [],
   "source": [
    "## Calculate the expenses per month"
   ]
  },
  {
   "cell_type": "code",
   "execution_count": 176,
   "metadata": {},
   "outputs": [
    {
     "data": {
      "text/html": [
       "<div>\n",
       "<style scoped>\n",
       "    .dataframe tbody tr th:only-of-type {\n",
       "        vertical-align: middle;\n",
       "    }\n",
       "\n",
       "    .dataframe tbody tr th {\n",
       "        vertical-align: top;\n",
       "    }\n",
       "\n",
       "    .dataframe thead th {\n",
       "        text-align: right;\n",
       "    }\n",
       "</style>\n",
       "<table border=\"1\" class=\"dataframe\">\n",
       "  <thead>\n",
       "    <tr style=\"text-align: right;\">\n",
       "      <th></th>\n",
       "      <th>amount</th>\n",
       "    </tr>\n",
       "    <tr>\n",
       "      <th>date</th>\n",
       "      <th></th>\n",
       "    </tr>\n",
       "  </thead>\n",
       "  <tbody>\n",
       "    <tr>\n",
       "      <th>2019-06-15</th>\n",
       "      <td>-4.22</td>\n",
       "    </tr>\n",
       "    <tr>\n",
       "      <th>2019-06-16</th>\n",
       "      <td>89.40</td>\n",
       "    </tr>\n",
       "    <tr>\n",
       "      <th>2019-06-17</th>\n",
       "      <td>16.33</td>\n",
       "    </tr>\n",
       "    <tr>\n",
       "      <th>2019-06-18</th>\n",
       "      <td>-421.50</td>\n",
       "    </tr>\n",
       "    <tr>\n",
       "      <th>2019-06-19</th>\n",
       "      <td>6850.00</td>\n",
       "    </tr>\n",
       "    <tr>\n",
       "      <th>2019-06-20</th>\n",
       "      <td>30.40</td>\n",
       "    </tr>\n",
       "    <tr>\n",
       "      <th>2019-06-29</th>\n",
       "      <td>3078.50</td>\n",
       "    </tr>\n",
       "    <tr>\n",
       "      <th>2019-06-30</th>\n",
       "      <td>500.00</td>\n",
       "    </tr>\n",
       "    <tr>\n",
       "      <th>2019-07-03</th>\n",
       "      <td>6.33</td>\n",
       "    </tr>\n",
       "    <tr>\n",
       "      <th>2019-07-05</th>\n",
       "      <td>500.00</td>\n",
       "    </tr>\n",
       "    <tr>\n",
       "      <th>2019-07-15</th>\n",
       "      <td>-4.22</td>\n",
       "    </tr>\n",
       "    <tr>\n",
       "      <th>2019-07-16</th>\n",
       "      <td>89.40</td>\n",
       "    </tr>\n",
       "    <tr>\n",
       "      <th>2019-07-17</th>\n",
       "      <td>16.33</td>\n",
       "    </tr>\n",
       "    <tr>\n",
       "      <th>2019-07-18</th>\n",
       "      <td>-421.50</td>\n",
       "    </tr>\n",
       "    <tr>\n",
       "      <th>2019-07-19</th>\n",
       "      <td>6850.00</td>\n",
       "    </tr>\n",
       "    <tr>\n",
       "      <th>2019-07-20</th>\n",
       "      <td>30.40</td>\n",
       "    </tr>\n",
       "    <tr>\n",
       "      <th>2019-07-29</th>\n",
       "      <td>3078.50</td>\n",
       "    </tr>\n",
       "    <tr>\n",
       "      <th>2019-07-30</th>\n",
       "      <td>500.00</td>\n",
       "    </tr>\n",
       "    <tr>\n",
       "      <th>2019-08-02</th>\n",
       "      <td>6.33</td>\n",
       "    </tr>\n",
       "    <tr>\n",
       "      <th>2019-08-04</th>\n",
       "      <td>500.00</td>\n",
       "    </tr>\n",
       "    <tr>\n",
       "      <th>2019-08-14</th>\n",
       "      <td>-4.22</td>\n",
       "    </tr>\n",
       "    <tr>\n",
       "      <th>2019-08-15</th>\n",
       "      <td>89.40</td>\n",
       "    </tr>\n",
       "    <tr>\n",
       "      <th>2019-08-16</th>\n",
       "      <td>16.33</td>\n",
       "    </tr>\n",
       "    <tr>\n",
       "      <th>2019-08-17</th>\n",
       "      <td>-421.50</td>\n",
       "    </tr>\n",
       "    <tr>\n",
       "      <th>2019-08-18</th>\n",
       "      <td>6850.00</td>\n",
       "    </tr>\n",
       "    <tr>\n",
       "      <th>2019-08-19</th>\n",
       "      <td>30.40</td>\n",
       "    </tr>\n",
       "    <tr>\n",
       "      <th>2019-08-28</th>\n",
       "      <td>3078.50</td>\n",
       "    </tr>\n",
       "    <tr>\n",
       "      <th>2019-08-29</th>\n",
       "      <td>500.00</td>\n",
       "    </tr>\n",
       "    <tr>\n",
       "      <th>2019-09-01</th>\n",
       "      <td>6.33</td>\n",
       "    </tr>\n",
       "    <tr>\n",
       "      <th>2019-09-03</th>\n",
       "      <td>500.00</td>\n",
       "    </tr>\n",
       "  </tbody>\n",
       "</table>\n",
       "</div>"
      ],
      "text/plain": [
       "             amount\n",
       "date               \n",
       "2019-06-15    -4.22\n",
       "2019-06-16    89.40\n",
       "2019-06-17    16.33\n",
       "2019-06-18  -421.50\n",
       "2019-06-19  6850.00\n",
       "2019-06-20    30.40\n",
       "2019-06-29  3078.50\n",
       "2019-06-30   500.00\n",
       "2019-07-03     6.33\n",
       "2019-07-05   500.00\n",
       "2019-07-15    -4.22\n",
       "2019-07-16    89.40\n",
       "2019-07-17    16.33\n",
       "2019-07-18  -421.50\n",
       "2019-07-19  6850.00\n",
       "2019-07-20    30.40\n",
       "2019-07-29  3078.50\n",
       "2019-07-30   500.00\n",
       "2019-08-02     6.33\n",
       "2019-08-04   500.00\n",
       "2019-08-14    -4.22\n",
       "2019-08-15    89.40\n",
       "2019-08-16    16.33\n",
       "2019-08-17  -421.50\n",
       "2019-08-18  6850.00\n",
       "2019-08-19    30.40\n",
       "2019-08-28  3078.50\n",
       "2019-08-29   500.00\n",
       "2019-09-01     6.33\n",
       "2019-09-03   500.00"
      ]
     },
     "execution_count": 176,
     "metadata": {},
     "output_type": "execute_result"
    }
   ],
   "source": [
    "expenses_month = transactions_df.groupby('date').sum()\n",
    "expenses_month"
   ]
  },
  {
   "cell_type": "code",
   "execution_count": 177,
   "metadata": {},
   "outputs": [
    {
     "data": {
      "text/html": [
       "<div>\n",
       "<style scoped>\n",
       "    .dataframe tbody tr th:only-of-type {\n",
       "        vertical-align: middle;\n",
       "    }\n",
       "\n",
       "    .dataframe tbody tr th {\n",
       "        vertical-align: top;\n",
       "    }\n",
       "\n",
       "    .dataframe thead th {\n",
       "        text-align: right;\n",
       "    }\n",
       "</style>\n",
       "<table border=\"1\" class=\"dataframe\">\n",
       "  <thead>\n",
       "    <tr style=\"text-align: right;\">\n",
       "      <th></th>\n",
       "      <th>amount</th>\n",
       "    </tr>\n",
       "    <tr>\n",
       "      <th>date</th>\n",
       "      <th></th>\n",
       "    </tr>\n",
       "  </thead>\n",
       "  <tbody>\n",
       "    <tr>\n",
       "      <th>6</th>\n",
       "      <td>10138.91</td>\n",
       "    </tr>\n",
       "    <tr>\n",
       "      <th>7</th>\n",
       "      <td>10645.24</td>\n",
       "    </tr>\n",
       "    <tr>\n",
       "      <th>8</th>\n",
       "      <td>10645.24</td>\n",
       "    </tr>\n",
       "    <tr>\n",
       "      <th>9</th>\n",
       "      <td>506.33</td>\n",
       "    </tr>\n",
       "  </tbody>\n",
       "</table>\n",
       "</div>"
      ],
      "text/plain": [
       "        amount\n",
       "date          \n",
       "6     10138.91\n",
       "7     10645.24\n",
       "8     10645.24\n",
       "9       506.33"
      ]
     },
     "execution_count": 177,
     "metadata": {},
     "output_type": "execute_result"
    }
   ],
   "source": [
    "## Expenses per month\n",
    "expenses_month.groupby([expenses_month.index.month]).sum()"
   ]
  },
  {
   "cell_type": "code",
   "execution_count": 178,
   "metadata": {},
   "outputs": [],
   "source": [
    "## Plot the expenses per month"
   ]
  },
  {
   "cell_type": "code",
   "execution_count": 179,
   "metadata": {},
   "outputs": [
    {
     "data": {
      "text/plain": [
       "<matplotlib.axes._subplots.AxesSubplot at 0x26c8fce1438>"
      ]
     },
     "execution_count": 179,
     "metadata": {},
     "output_type": "execute_result"
    },
    {
     "data": {
      "image/png": "[encoded data removed]",
      "text/plain": [
       "<Figure size 432x288 with 1 Axes>"
      ]
     },
     "metadata": {
      "needs_background": "light"
     },
     "output_type": "display_data"
    }
   ],
   "source": [
    "expenses_month.groupby([expenses_month.index.month]).sum().plot()"
   ]
  },
  {
   "cell_type": "code",
   "execution_count": 180,
   "metadata": {},
   "outputs": [
    {
     "data": {
      "text/plain": [
       "<matplotlib.axes._subplots.AxesSubplot at 0x26c8fcdcfd0>"
      ]
     },
     "execution_count": 180,
     "metadata": {},
     "output_type": "execute_result"
    },
    {
     "data": {
      "image/png": "[encoded data removed]",
      "text/plain": [
       "<Figure size 432x288 with 1 Axes>"
      ]
     },
     "metadata": {
      "needs_background": "light"
     },
     "output_type": "display_data"
    }
   ],
   "source": [
    "expenses_month.groupby([expenses_month.index.month]).sum().plot(kind='bar')"
   ]
  },
  {
   "cell_type": "code",
   "execution_count": null,
   "metadata": {},
   "outputs": [],
   "source": []
  }
 ],
 "metadata": {
  "kernelspec": {
   "display_name": "Python 3",
   "language": "python",
   "name": "python3"
  },
  "language_info": {
   "codemirror_mode": {
    "name": "ipython",
    "version": 3
   },
   "file_extension": ".py",
   "mimetype": "text/x-python",
   "name": "python",
   "nbconvert_exporter": "python",
   "pygments_lexer": "ipython3",
   "version": "3.7.3"
  }
 },
 "nbformat": 4,
 "nbformat_minor": 4
}
