{
 "cells": [
  {
   "cell_type": "code",
   "execution_count": 153,
   "metadata": {},
   "outputs": [],
   "source": [
    "import numpy as np\n",
    "import pandas as pd\n",
    "from datetime import datetime, timedelta\n",
    "import matplotlib.pyplot as plt\n",
    "%matplotlib inline"
   ]
  },
  {
   "cell_type": "code",
   "execution_count": 154,
   "metadata": {},
   "outputs": [],
   "source": [
    "np.random.seed(42)"
   ]
  },
  {
   "cell_type": "code",
   "execution_count": 155,
   "metadata": {},
   "outputs": [],
   "source": [
    "# Portfolio Planner\n",
    "## Grab historical data 60/40 portfolio using SPY for stocks and AGG  for bonds"
   ]
  },
  {
   "cell_type": "code",
   "execution_count": 156,
   "metadata": {},
   "outputs": [],
   "source": [
    "from iexfinance.stocks import get_historical_data\n",
    "import iexfinance as iex\n",
    "from iexfinance.refdata import get_symbols\n"
   ]
  },
  {
   "cell_type": "code",
   "execution_count": 157,
   "metadata": {},
   "outputs": [],
   "source": [
    "## Data Collection\n"
   ]
  },
  {
   "cell_type": "code",
   "execution_count": 158,
   "metadata": {},
   "outputs": [
    {
     "data": {
      "text/html": [
       "<div>\n",
       "<style scoped>\n",
       "    .dataframe tbody tr th:only-of-type {\n",
       "        vertical-align: middle;\n",
       "    }\n",
       "\n",
       "    .dataframe tbody tr th {\n",
       "        vertical-align: top;\n",
       "    }\n",
       "\n",
       "    .dataframe thead th {\n",
       "        text-align: right;\n",
       "    }\n",
       "</style>\n",
       "<table border=\"1\" class=\"dataframe\">\n",
       "  <thead>\n",
       "    <tr style=\"text-align: right;\">\n",
       "      <th></th>\n",
       "      <th>currency</th>\n",
       "      <th>date</th>\n",
       "      <th>exchange</th>\n",
       "      <th>iexId</th>\n",
       "      <th>isEnabled</th>\n",
       "      <th>name</th>\n",
       "      <th>region</th>\n",
       "      <th>symbol</th>\n",
       "      <th>type</th>\n",
       "    </tr>\n",
       "  </thead>\n",
       "  <tbody>\n",
       "    <tr>\n",
       "      <th>0</th>\n",
       "      <td>USD</td>\n",
       "      <td>2019-09-10</td>\n",
       "      <td>NYS</td>\n",
       "      <td>IEX_46574843354B2D52</td>\n",
       "      <td>True</td>\n",
       "      <td>Agilent Technologies Inc.</td>\n",
       "      <td>US</td>\n",
       "      <td>A</td>\n",
       "      <td>cs</td>\n",
       "    </tr>\n",
       "    <tr>\n",
       "      <th>1</th>\n",
       "      <td>USD</td>\n",
       "      <td>2019-09-10</td>\n",
       "      <td>NYS</td>\n",
       "      <td>IEX_4238333734532D52</td>\n",
       "      <td>True</td>\n",
       "      <td>Alcoa Corp.</td>\n",
       "      <td>US</td>\n",
       "      <td>AA</td>\n",
       "      <td>cs</td>\n",
       "    </tr>\n",
       "    <tr>\n",
       "      <th>2</th>\n",
       "      <td>USD</td>\n",
       "      <td>2019-09-10</td>\n",
       "      <td>PSE</td>\n",
       "      <td>IEX_474B433136332D52</td>\n",
       "      <td>True</td>\n",
       "      <td>Perth Mint Physical Gold ETF</td>\n",
       "      <td>US</td>\n",
       "      <td>AAAU</td>\n",
       "      <td>et</td>\n",
       "    </tr>\n",
       "    <tr>\n",
       "      <th>3</th>\n",
       "      <td>USD</td>\n",
       "      <td>2019-09-10</td>\n",
       "      <td>NAS</td>\n",
       "      <td>IEX_4E5434354A302D52</td>\n",
       "      <td>True</td>\n",
       "      <td>Altaba Inc.</td>\n",
       "      <td>US</td>\n",
       "      <td>AABA</td>\n",
       "      <td>cef</td>\n",
       "    </tr>\n",
       "    <tr>\n",
       "      <th>4</th>\n",
       "      <td>USD</td>\n",
       "      <td>2019-09-10</td>\n",
       "      <td>NYS</td>\n",
       "      <td>IEX_4843364642592D52</td>\n",
       "      <td>True</td>\n",
       "      <td>AAC Holdings Inc.</td>\n",
       "      <td>US</td>\n",
       "      <td>AAC</td>\n",
       "      <td>cs</td>\n",
       "    </tr>\n",
       "  </tbody>\n",
       "</table>\n",
       "</div>"
      ],
      "text/plain": [
       "  currency        date exchange                 iexId  isEnabled  \\\n",
       "0      USD  2019-09-10      NYS  IEX_46574843354B2D52       True   \n",
       "1      USD  2019-09-10      NYS  IEX_4238333734532D52       True   \n",
       "2      USD  2019-09-10      PSE  IEX_474B433136332D52       True   \n",
       "3      USD  2019-09-10      NAS  IEX_4E5434354A302D52       True   \n",
       "4      USD  2019-09-10      NYS  IEX_4843364642592D52       True   \n",
       "\n",
       "                           name region symbol type  \n",
       "0     Agilent Technologies Inc.     US      A   cs  \n",
       "1                   Alcoa Corp.     US     AA   cs  \n",
       "2  Perth Mint Physical Gold ETF     US   AAAU   et  \n",
       "3                   Altaba Inc.     US   AABA  cef  \n",
       "4             AAC Holdings Inc.     US    AAC   cs  "
      ]
     },
     "execution_count": 158,
     "metadata": {},
     "output_type": "execute_result"
    }
   ],
   "source": [
    "# Use the `get_symbols` function from the iexfinance SDK to fetch available stock tickers\n",
    "tickers=pd.DataFrame(get_symbols())\n",
    "tickers.head()"
   ]
  },
  {
   "cell_type": "code",
   "execution_count": 159,
   "metadata": {},
   "outputs": [
    {
     "data": {
      "text/html": [
       "<div>\n",
       "<style scoped>\n",
       "    .dataframe tbody tr th:only-of-type {\n",
       "        vertical-align: middle;\n",
       "    }\n",
       "\n",
       "    .dataframe tbody tr th {\n",
       "        vertical-align: top;\n",
       "    }\n",
       "\n",
       "    .dataframe thead tr th {\n",
       "        text-align: left;\n",
       "    }\n",
       "\n",
       "    .dataframe thead tr:last-of-type th {\n",
       "        text-align: right;\n",
       "    }\n",
       "</style>\n",
       "<table border=\"1\" class=\"dataframe\">\n",
       "  <thead>\n",
       "    <tr>\n",
       "      <th></th>\n",
       "      <th colspan=\"5\" halign=\"left\">SPY</th>\n",
       "      <th colspan=\"5\" halign=\"left\">AGG</th>\n",
       "    </tr>\n",
       "    <tr>\n",
       "      <th></th>\n",
       "      <th>open</th>\n",
       "      <th>high</th>\n",
       "      <th>low</th>\n",
       "      <th>close</th>\n",
       "      <th>volume</th>\n",
       "      <th>open</th>\n",
       "      <th>high</th>\n",
       "      <th>low</th>\n",
       "      <th>close</th>\n",
       "      <th>volume</th>\n",
       "    </tr>\n",
       "    <tr>\n",
       "      <th>date</th>\n",
       "      <th></th>\n",
       "      <th></th>\n",
       "      <th></th>\n",
       "      <th></th>\n",
       "      <th></th>\n",
       "      <th></th>\n",
       "      <th></th>\n",
       "      <th></th>\n",
       "      <th></th>\n",
       "      <th></th>\n",
       "    </tr>\n",
       "  </thead>\n",
       "  <tbody>\n",
       "    <tr>\n",
       "      <th>2018-09-10</th>\n",
       "      <td>288.74</td>\n",
       "      <td>289.04</td>\n",
       "      <td>287.88</td>\n",
       "      <td>288.10</td>\n",
       "      <td>50210903</td>\n",
       "      <td>105.85</td>\n",
       "      <td>105.95</td>\n",
       "      <td>105.85</td>\n",
       "      <td>105.91</td>\n",
       "      <td>3305683</td>\n",
       "    </tr>\n",
       "    <tr>\n",
       "      <th>2018-09-11</th>\n",
       "      <td>287.37</td>\n",
       "      <td>289.55</td>\n",
       "      <td>286.98</td>\n",
       "      <td>289.05</td>\n",
       "      <td>50530492</td>\n",
       "      <td>105.78</td>\n",
       "      <td>105.84</td>\n",
       "      <td>105.70</td>\n",
       "      <td>105.73</td>\n",
       "      <td>4918982</td>\n",
       "    </tr>\n",
       "    <tr>\n",
       "      <th>2018-09-12</th>\n",
       "      <td>289.06</td>\n",
       "      <td>289.80</td>\n",
       "      <td>288.23</td>\n",
       "      <td>289.12</td>\n",
       "      <td>59810758</td>\n",
       "      <td>105.81</td>\n",
       "      <td>105.89</td>\n",
       "      <td>105.80</td>\n",
       "      <td>105.80</td>\n",
       "      <td>4168939</td>\n",
       "    </tr>\n",
       "    <tr>\n",
       "      <th>2018-09-13</th>\n",
       "      <td>290.32</td>\n",
       "      <td>291.04</td>\n",
       "      <td>290.00</td>\n",
       "      <td>290.83</td>\n",
       "      <td>51034222</td>\n",
       "      <td>105.96</td>\n",
       "      <td>106.00</td>\n",
       "      <td>105.85</td>\n",
       "      <td>105.87</td>\n",
       "      <td>2280187</td>\n",
       "    </tr>\n",
       "    <tr>\n",
       "      <th>2018-09-14</th>\n",
       "      <td>291.06</td>\n",
       "      <td>291.27</td>\n",
       "      <td>290.00</td>\n",
       "      <td>290.88</td>\n",
       "      <td>55079875</td>\n",
       "      <td>105.72</td>\n",
       "      <td>105.79</td>\n",
       "      <td>105.66</td>\n",
       "      <td>105.67</td>\n",
       "      <td>2693325</td>\n",
       "    </tr>\n",
       "  </tbody>\n",
       "</table>\n",
       "</div>"
      ],
      "text/plain": [
       "               SPY                                       AGG                  \\\n",
       "              open    high     low   close    volume    open    high     low   \n",
       "date                                                                           \n",
       "2018-09-10  288.74  289.04  287.88  288.10  50210903  105.85  105.95  105.85   \n",
       "2018-09-11  287.37  289.55  286.98  289.05  50530492  105.78  105.84  105.70   \n",
       "2018-09-12  289.06  289.80  288.23  289.12  59810758  105.81  105.89  105.80   \n",
       "2018-09-13  290.32  291.04  290.00  290.83  51034222  105.96  106.00  105.85   \n",
       "2018-09-14  291.06  291.27  290.00  290.88  55079875  105.72  105.79  105.66   \n",
       "\n",
       "                             \n",
       "             close   volume  \n",
       "date                         \n",
       "2018-09-10  105.91  3305683  \n",
       "2018-09-11  105.73  4918982  \n",
       "2018-09-12  105.80  4168939  \n",
       "2018-09-13  105.87  2280187  \n",
       "2018-09-14  105.67  2693325  "
      ]
     },
     "execution_count": 159,
     "metadata": {},
     "output_type": "execute_result"
    }
   ],
   "source": [
    "list_of_tickers = [\"SPY\", \"AGG\"]\n",
    "# Set start and end datetimes of 1 year, between now and 365 days ago.\n",
    "end_date = datetime.now()\n",
    "start_date = end_date + timedelta(-365)\n",
    "\n",
    "# Get 1 year's worth of historical data for \"SPY\" and \"AGG\"\n",
    "df = get_historical_data(list_of_tickers, start_date, end_date,  output_format='pandas')\n",
    "df.head()"
   ]
  },
  {
   "cell_type": "code",
   "execution_count": 160,
   "metadata": {},
   "outputs": [],
   "source": [
    "# Monte Carlo Simulation"
   ]
  },
  {
   "cell_type": "code",
   "execution_count": 161,
   "metadata": {},
   "outputs": [],
   "source": [
    "## Calculate the daily returns for the SPY and AGG closing prices"
   ]
  },
  {
   "cell_type": "code",
   "execution_count": 162,
   "metadata": {},
   "outputs": [
    {
     "data": {
      "text/plain": [
       "SPY  open      float64\n",
       "     high      float64\n",
       "     low       float64\n",
       "     close     float64\n",
       "     volume      int64\n",
       "AGG  open      float64\n",
       "     high      float64\n",
       "     low       float64\n",
       "     close     float64\n",
       "     volume      int64\n",
       "dtype: object"
      ]
     },
     "execution_count": 162,
     "metadata": {},
     "output_type": "execute_result"
    }
   ],
   "source": [
    "df.dtypes"
   ]
  },
  {
   "cell_type": "code",
   "execution_count": 163,
   "metadata": {},
   "outputs": [
    {
     "data": {
      "text/plain": [
       "MultiIndex(levels=[['SPY', 'AGG'], ['open', 'high', 'low', 'close', 'volume']],\n",
       "           codes=[[0, 0, 0, 0, 0, 1, 1, 1, 1, 1], [0, 1, 2, 3, 4, 0, 1, 2, 3, 4]])"
      ]
     },
     "execution_count": 163,
     "metadata": {},
     "output_type": "execute_result"
    }
   ],
   "source": [
    "df.columns"
   ]
  },
  {
   "cell_type": "code",
   "execution_count": 164,
   "metadata": {},
   "outputs": [
    {
     "data": {
      "text/html": [
       "<div>\n",
       "<style scoped>\n",
       "    .dataframe tbody tr th:only-of-type {\n",
       "        vertical-align: middle;\n",
       "    }\n",
       "\n",
       "    .dataframe tbody tr th {\n",
       "        vertical-align: top;\n",
       "    }\n",
       "\n",
       "    .dataframe thead tr th {\n",
       "        text-align: left;\n",
       "    }\n",
       "\n",
       "    .dataframe thead tr:last-of-type th {\n",
       "        text-align: right;\n",
       "    }\n",
       "</style>\n",
       "<table border=\"1\" class=\"dataframe\">\n",
       "  <thead>\n",
       "    <tr>\n",
       "      <th></th>\n",
       "      <th>SPY</th>\n",
       "      <th>AGG</th>\n",
       "    </tr>\n",
       "    <tr>\n",
       "      <th></th>\n",
       "      <th>close</th>\n",
       "      <th>close</th>\n",
       "    </tr>\n",
       "    <tr>\n",
       "      <th>date</th>\n",
       "      <th></th>\n",
       "      <th></th>\n",
       "    </tr>\n",
       "  </thead>\n",
       "  <tbody>\n",
       "    <tr>\n",
       "      <th>2018-09-10</th>\n",
       "      <td>288.10</td>\n",
       "      <td>105.91</td>\n",
       "    </tr>\n",
       "    <tr>\n",
       "      <th>2018-09-11</th>\n",
       "      <td>289.05</td>\n",
       "      <td>105.73</td>\n",
       "    </tr>\n",
       "    <tr>\n",
       "      <th>2018-09-12</th>\n",
       "      <td>289.12</td>\n",
       "      <td>105.80</td>\n",
       "    </tr>\n",
       "    <tr>\n",
       "      <th>2018-09-13</th>\n",
       "      <td>290.83</td>\n",
       "      <td>105.87</td>\n",
       "    </tr>\n",
       "    <tr>\n",
       "      <th>2018-09-14</th>\n",
       "      <td>290.88</td>\n",
       "      <td>105.67</td>\n",
       "    </tr>\n",
       "  </tbody>\n",
       "</table>\n",
       "</div>"
      ],
      "text/plain": [
       "               SPY     AGG\n",
       "             close   close\n",
       "date                      \n",
       "2018-09-10  288.10  105.91\n",
       "2018-09-11  289.05  105.73\n",
       "2018-09-12  289.12  105.80\n",
       "2018-09-13  290.83  105.87\n",
       "2018-09-14  290.88  105.67"
      ]
     },
     "execution_count": 164,
     "metadata": {},
     "output_type": "execute_result"
    }
   ],
   "source": [
    "### Use the `drop` function to drop extra columns in the DataFrame\n",
    "df.drop(columns=['open', 'high', 'low', 'volume'], level=1, inplace=True)\n",
    "df.head()"
   ]
  },
  {
   "cell_type": "code",
   "execution_count": 165,
   "metadata": {},
   "outputs": [
    {
     "data": {
      "text/html": [
       "<div>\n",
       "<style scoped>\n",
       "    .dataframe tbody tr th:only-of-type {\n",
       "        vertical-align: middle;\n",
       "    }\n",
       "\n",
       "    .dataframe tbody tr th {\n",
       "        vertical-align: top;\n",
       "    }\n",
       "\n",
       "    .dataframe thead tr th {\n",
       "        text-align: left;\n",
       "    }\n",
       "\n",
       "    .dataframe thead tr:last-of-type th {\n",
       "        text-align: right;\n",
       "    }\n",
       "</style>\n",
       "<table border=\"1\" class=\"dataframe\">\n",
       "  <thead>\n",
       "    <tr>\n",
       "      <th></th>\n",
       "      <th>SPY</th>\n",
       "      <th>AGG</th>\n",
       "    </tr>\n",
       "    <tr>\n",
       "      <th></th>\n",
       "      <th>close</th>\n",
       "      <th>close</th>\n",
       "    </tr>\n",
       "    <tr>\n",
       "      <th>date</th>\n",
       "      <th></th>\n",
       "      <th></th>\n",
       "    </tr>\n",
       "  </thead>\n",
       "  <tbody>\n",
       "    <tr>\n",
       "      <th>2018-09-10</th>\n",
       "      <td>NaN</td>\n",
       "      <td>NaN</td>\n",
       "    </tr>\n",
       "    <tr>\n",
       "      <th>2018-09-11</th>\n",
       "      <td>0.003297</td>\n",
       "      <td>-0.001700</td>\n",
       "    </tr>\n",
       "    <tr>\n",
       "      <th>2018-09-12</th>\n",
       "      <td>0.000242</td>\n",
       "      <td>0.000662</td>\n",
       "    </tr>\n",
       "    <tr>\n",
       "      <th>2018-09-13</th>\n",
       "      <td>0.005914</td>\n",
       "      <td>0.000662</td>\n",
       "    </tr>\n",
       "    <tr>\n",
       "      <th>2018-09-14</th>\n",
       "      <td>0.000172</td>\n",
       "      <td>-0.001889</td>\n",
       "    </tr>\n",
       "  </tbody>\n",
       "</table>\n",
       "</div>"
      ],
      "text/plain": [
       "                 SPY       AGG\n",
       "               close     close\n",
       "date                          \n",
       "2018-09-10       NaN       NaN\n",
       "2018-09-11  0.003297 -0.001700\n",
       "2018-09-12  0.000242  0.000662\n",
       "2018-09-13  0.005914  0.000662\n",
       "2018-09-14  0.000172 -0.001889"
      ]
     },
     "execution_count": 165,
     "metadata": {},
     "output_type": "execute_result"
    }
   ],
   "source": [
    "### Use the `pct_change` function to calculate daily returns of SPY and AGG\n",
    "daily_returns = df.pct_change()\n",
    "daily_returns.head()"
   ]
  },
  {
   "cell_type": "code",
   "execution_count": 166,
   "metadata": {},
   "outputs": [],
   "source": [
    "### Calculate volatility (standard deviation) for both stocks and save those as variables.\n"
   ]
  },
  {
   "cell_type": "code",
   "execution_count": 167,
   "metadata": {},
   "outputs": [
    {
     "data": {
      "text/plain": [
       "0.010602247681988442"
      ]
     },
     "execution_count": 167,
     "metadata": {},
     "output_type": "execute_result"
    }
   ],
   "source": [
    "#### Use the `mean` function to calculate the mean of daily returns for `SPY` and `AGG`, respectively\n",
    "avg_daily_return_SPY = daily_returns.mean()['SPY']['close']\n",
    "avg_daily_return_AGG = daily_returns.mean()['AGG']['close']\n",
    "\n",
    "# Use the `std` function to calculate the standard deviation of daily returns for `SPY` and `AGG`, respectively\n",
    "std_dev_daily_return_SPY = daily_returns.std()['SPY']['close']\n",
    "std_dev_daily_return_AGG = daily_returns.std()['AGG']['close']\n",
    "std_dev_daily_return_SPY"
   ]
  },
  {
   "cell_type": "code",
   "execution_count": 168,
   "metadata": {},
   "outputs": [],
   "source": [
    "### Find the last day's closing price for both stocks and save those as variables."
   ]
  },
  {
   "cell_type": "code",
   "execution_count": 169,
   "metadata": {},
   "outputs": [],
   "source": [
    "spy_last_price = df['SPY']['close'][-1]\n",
    "agg_last_price = df['AGG']['close'][-1]\n"
   ]
  },
  {
   "cell_type": "code",
   "execution_count": 170,
   "metadata": {},
   "outputs": [],
   "source": [
    "### Run a Monte Carlo Simulation, 100 iterations of 30 years of closing prices per iterations."
   ]
  },
  {
   "cell_type": "code",
   "execution_count": 171,
   "metadata": {},
   "outputs": [],
   "source": [
    "#### Setup the Monte Carlo Parameters\n",
    "number_simulations = 500\n",
    "number_records = 252 * 30"
   ]
  },
  {
   "cell_type": "code",
   "execution_count": 172,
   "metadata": {},
   "outputs": [
    {
     "data": {
      "text/html": [
       "<div>\n",
       "<style scoped>\n",
       "    .dataframe tbody tr th:only-of-type {\n",
       "        vertical-align: middle;\n",
       "    }\n",
       "\n",
       "    .dataframe tbody tr th {\n",
       "        vertical-align: top;\n",
       "    }\n",
       "\n",
       "    .dataframe thead th {\n",
       "        text-align: right;\n",
       "    }\n",
       "</style>\n",
       "<table border=\"1\" class=\"dataframe\">\n",
       "  <thead>\n",
       "    <tr style=\"text-align: right;\">\n",
       "      <th></th>\n",
       "      <th>0</th>\n",
       "      <th>1</th>\n",
       "      <th>2</th>\n",
       "      <th>3</th>\n",
       "      <th>4</th>\n",
       "      <th>5</th>\n",
       "      <th>6</th>\n",
       "      <th>7</th>\n",
       "      <th>8</th>\n",
       "      <th>9</th>\n",
       "      <th>...</th>\n",
       "      <th>490</th>\n",
       "      <th>491</th>\n",
       "      <th>492</th>\n",
       "      <th>493</th>\n",
       "      <th>494</th>\n",
       "      <th>495</th>\n",
       "      <th>496</th>\n",
       "      <th>497</th>\n",
       "      <th>498</th>\n",
       "      <th>499</th>\n",
       "    </tr>\n",
       "  </thead>\n",
       "  <tbody>\n",
       "    <tr>\n",
       "      <th>0</th>\n",
       "      <td>1.000000</td>\n",
       "      <td>1.000000</td>\n",
       "      <td>1.000000</td>\n",
       "      <td>1.000000</td>\n",
       "      <td>1.000000</td>\n",
       "      <td>1.000000</td>\n",
       "      <td>1.000000</td>\n",
       "      <td>1.000000</td>\n",
       "      <td>1.000000</td>\n",
       "      <td>1.000000</td>\n",
       "      <td>...</td>\n",
       "      <td>1.000000</td>\n",
       "      <td>1.000000</td>\n",
       "      <td>1.000000</td>\n",
       "      <td>1.000000</td>\n",
       "      <td>1.000000</td>\n",
       "      <td>1.000000</td>\n",
       "      <td>1.000000</td>\n",
       "      <td>1.000000</td>\n",
       "      <td>1.000000</td>\n",
       "      <td>1.000000</td>\n",
       "    </tr>\n",
       "    <tr>\n",
       "      <th>1</th>\n",
       "      <td>1.003280</td>\n",
       "      <td>0.993780</td>\n",
       "      <td>0.990624</td>\n",
       "      <td>0.998632</td>\n",
       "      <td>1.006088</td>\n",
       "      <td>1.009300</td>\n",
       "      <td>1.012433</td>\n",
       "      <td>0.993466</td>\n",
       "      <td>1.001923</td>\n",
       "      <td>0.998812</td>\n",
       "      <td>...</td>\n",
       "      <td>1.002246</td>\n",
       "      <td>0.994405</td>\n",
       "      <td>1.009176</td>\n",
       "      <td>0.999308</td>\n",
       "      <td>0.996729</td>\n",
       "      <td>1.003440</td>\n",
       "      <td>0.994294</td>\n",
       "      <td>0.990709</td>\n",
       "      <td>1.003865</td>\n",
       "      <td>0.996401</td>\n",
       "    </tr>\n",
       "    <tr>\n",
       "      <th>2</th>\n",
       "      <td>1.008780</td>\n",
       "      <td>0.998216</td>\n",
       "      <td>0.988827</td>\n",
       "      <td>0.997582</td>\n",
       "      <td>1.010243</td>\n",
       "      <td>0.996599</td>\n",
       "      <td>1.004739</td>\n",
       "      <td>0.979268</td>\n",
       "      <td>1.000447</td>\n",
       "      <td>1.009942</td>\n",
       "      <td>...</td>\n",
       "      <td>1.004326</td>\n",
       "      <td>1.003695</td>\n",
       "      <td>1.012799</td>\n",
       "      <td>1.000797</td>\n",
       "      <td>0.998118</td>\n",
       "      <td>0.999694</td>\n",
       "      <td>0.993097</td>\n",
       "      <td>0.991004</td>\n",
       "      <td>1.003488</td>\n",
       "      <td>1.000693</td>\n",
       "    </tr>\n",
       "    <tr>\n",
       "      <th>3</th>\n",
       "      <td>1.007326</td>\n",
       "      <td>0.997888</td>\n",
       "      <td>0.993121</td>\n",
       "      <td>0.989211</td>\n",
       "      <td>1.009078</td>\n",
       "      <td>1.000873</td>\n",
       "      <td>1.009209</td>\n",
       "      <td>0.971295</td>\n",
       "      <td>0.999724</td>\n",
       "      <td>1.019899</td>\n",
       "      <td>...</td>\n",
       "      <td>1.003858</td>\n",
       "      <td>1.007461</td>\n",
       "      <td>1.018626</td>\n",
       "      <td>1.002011</td>\n",
       "      <td>0.989157</td>\n",
       "      <td>0.997360</td>\n",
       "      <td>0.997230</td>\n",
       "      <td>0.998655</td>\n",
       "      <td>1.007402</td>\n",
       "      <td>0.998308</td>\n",
       "    </tr>\n",
       "    <tr>\n",
       "      <th>4</th>\n",
       "      <td>1.018249</td>\n",
       "      <td>1.001176</td>\n",
       "      <td>0.987497</td>\n",
       "      <td>0.996241</td>\n",
       "      <td>1.010183</td>\n",
       "      <td>0.993415</td>\n",
       "      <td>1.006686</td>\n",
       "      <td>0.967661</td>\n",
       "      <td>1.009799</td>\n",
       "      <td>1.005309</td>\n",
       "      <td>...</td>\n",
       "      <td>1.006203</td>\n",
       "      <td>1.004303</td>\n",
       "      <td>1.016204</td>\n",
       "      <td>1.009066</td>\n",
       "      <td>0.996905</td>\n",
       "      <td>0.992946</td>\n",
       "      <td>0.989436</td>\n",
       "      <td>0.998925</td>\n",
       "      <td>1.013267</td>\n",
       "      <td>1.002547</td>\n",
       "    </tr>\n",
       "  </tbody>\n",
       "</table>\n",
       "<p>5 rows × 500 columns</p>\n",
       "</div>"
      ],
      "text/plain": [
       "        0         1         2         3         4         5         6    \\\n",
       "0  1.000000  1.000000  1.000000  1.000000  1.000000  1.000000  1.000000   \n",
       "1  1.003280  0.993780  0.990624  0.998632  1.006088  1.009300  1.012433   \n",
       "2  1.008780  0.998216  0.988827  0.997582  1.010243  0.996599  1.004739   \n",
       "3  1.007326  0.997888  0.993121  0.989211  1.009078  1.000873  1.009209   \n",
       "4  1.018249  1.001176  0.987497  0.996241  1.010183  0.993415  1.006686   \n",
       "\n",
       "        7         8         9    ...       490       491       492       493  \\\n",
       "0  1.000000  1.000000  1.000000  ...  1.000000  1.000000  1.000000  1.000000   \n",
       "1  0.993466  1.001923  0.998812  ...  1.002246  0.994405  1.009176  0.999308   \n",
       "2  0.979268  1.000447  1.009942  ...  1.004326  1.003695  1.012799  1.000797   \n",
       "3  0.971295  0.999724  1.019899  ...  1.003858  1.007461  1.018626  1.002011   \n",
       "4  0.967661  1.009799  1.005309  ...  1.006203  1.004303  1.016204  1.009066   \n",
       "\n",
       "        494       495       496       497       498       499  \n",
       "0  1.000000  1.000000  1.000000  1.000000  1.000000  1.000000  \n",
       "1  0.996729  1.003440  0.994294  0.990709  1.003865  0.996401  \n",
       "2  0.998118  0.999694  0.993097  0.991004  1.003488  1.000693  \n",
       "3  0.989157  0.997360  0.997230  0.998655  1.007402  0.998308  \n",
       "4  0.996905  0.992946  0.989436  0.998925  1.013267  1.002547  \n",
       "\n",
       "[5 rows x 500 columns]"
      ]
     },
     "execution_count": 172,
     "metadata": {},
     "output_type": "execute_result"
    }
   ],
   "source": [
    "#### Initialize empty DataFrame to hold simulated prices for each simulation\n",
    "monte_carlo_price = pd.DataFrame()\n",
    "portfolio_cumulative_returns = pd.DataFrame()\n",
    "\n",
    "#### Run the simulation of projecting stock prices for the next trading year '100' times \n",
    "for x in range(number_simulations):\n",
    "    # Initialize the simulated prices list with the last closing price of `SPY` and `AGG`\n",
    "    simulated_SPY_prices = [spy_last_price]\n",
    "    simulated_AGG_prices = [agg_last_price]\n",
    "    \n",
    "    # Simulate the returns for 252 * 30  days\n",
    "    for i in range(number_records):\n",
    "        # Calculate the simulated price using the last price within the list\n",
    "        simulated_SPY_price = simulated_SPY_prices[-1] * (1 + np.random.normal(avg_daily_return_SPY, std_dev_daily_return_SPY))\n",
    "        simulated_AGG_price = simulated_AGG_prices[-1] * (1 + np.random.normal(avg_daily_return_AGG, std_dev_daily_return_AGG)) \n",
    "        # Append the simulated price to the list\n",
    "        simulated_SPY_prices.append(simulated_SPY_price)\n",
    "        simulated_AGG_prices.append(simulated_AGG_price)\n",
    "    # Append simulated prices of each simulation to DataFrame\n",
    "    monte_carlo_price[\"SPY prices\"] = pd.Series(simulated_SPY_prices)\n",
    "    monte_carlo_price[\"AGG prices\"] = pd.Series(simulated_AGG_prices)\n",
    "    \n",
    "    # Calculate the daily returns of simulated prices\n",
    "    simulated_daily_returns = monte_carlo_price.pct_change()\n",
    "    \n",
    "    # Set the portfolio weights (60% SPY; 40% AGG)\n",
    "    weights = [0.6, 0.4]\n",
    "    \n",
    "    # Use the 'dot' function with the weights to calculate portfolio daily returns    portfolio_daily_returns = simulated_daily_returns.dot(weights)\n",
    "    portfolio_daily_returns = simulated_daily_returns.dot(weights)\n",
    "    \n",
    "    # Calculate the normalized, cumulative return series\n",
    "    portfolio_cumulative_returns[x] = (1 + portfolio_daily_returns.fillna(0)).cumprod()\n",
    "\n",
    "#### Print records from the DataFrame\n",
    "portfolio_cumulative_returns.head()"
   ]
  },
  {
   "cell_type": "code",
   "execution_count": 173,
   "metadata": {},
   "outputs": [
    {
     "data": {
      "text/plain": [
       "<matplotlib.axes._subplots.AxesSubplot at 0x1a74d27d908>"
      ]
     },
     "execution_count": 173,
     "metadata": {},
     "output_type": "execute_result"
    },
    {
     "data": {
      "image/png": "[encoded data removed]",
      "text/plain": [
       "<Figure size 432x288 with 1 Axes>"
      ]
     },
     "metadata": {
      "needs_background": "light"
     },
     "output_type": "display_data"
    }
   ],
   "source": [
    "### Visualize the Simulation\n",
    "#### `Plot` function to plot `500` simulations of the potential trajectories of the portfolio based on 252 * 30 trading days\n",
    "plot_title = f\"{x+1} Simulations of Cumulative Portfolio Return Trajectories Over the Next 252 * 30 Trading Days\"\n",
    "portfolio_cumulative_returns.plot(legend=None, title=plot_title)"
   ]
  },
  {
   "cell_type": "code",
   "execution_count": 174,
   "metadata": {},
   "outputs": [
    {
     "data": {
      "text/plain": [
       "0    5.636295\n",
       "1    4.374547\n",
       "2    6.711047\n",
       "3    7.339132\n",
       "4    6.313758\n",
       "Name: 7560, dtype: float64"
      ]
     },
     "execution_count": 174,
     "metadata": {},
     "output_type": "execute_result"
    }
   ],
   "source": [
    "### Select the last row for the cumulative returns (cumulative returns at 30 years)\n",
    "ending_cumulative_returns = portfolio_cumulative_returns.iloc[-1, :]\n",
    "ending_cumulative_returns.head()"
   ]
  },
  {
   "cell_type": "code",
   "execution_count": 175,
   "metadata": {},
   "outputs": [],
   "source": [
    "### Display the 90% confidence interval for the ending returns"
   ]
  },
  {
   "cell_type": "code",
   "execution_count": 176,
   "metadata": {},
   "outputs": [
    {
     "data": {
      "text/plain": [
       "0.05    1.754307\n",
       "0.90    8.947640\n",
       "Name: 7560, dtype: float64"
      ]
     },
     "execution_count": 176,
     "metadata": {},
     "output_type": "execute_result"
    }
   ],
   "source": [
    "#### `Quantile` function to calculate the 90% confidence interval for the ending returns \n",
    "confidence_interval = ending_cumulative_returns.quantile(q=[0.05, 0.90])\n",
    "confidence_interval\n"
   ]
  },
  {
   "cell_type": "code",
   "execution_count": 177,
   "metadata": {},
   "outputs": [
    {
     "data": {
      "text/plain": [
       "<matplotlib.lines.Line2D at 0x1a74d589390>"
      ]
     },
     "execution_count": 177,
     "metadata": {},
     "output_type": "execute_result"
    },
    {
     "data": {
      "image/png": "[encoded data removed]",
      "text/plain": [
       "<Figure size 432x288 with 1 Axes>"
      ]
     },
     "metadata": {
      "needs_background": "light"
     },
     "output_type": "display_data"
    }
   ],
   "source": [
    "#### `Plot` function to create a probability distribution histogram for ending returns\n",
    "#### with markings for a 90% confidence interval\n",
    "plt.figure();\n",
    "ending_cumulative_returns.plot(kind='hist', density=True, bins=10)\n",
    "plt.axvline(confidence_interval.iloc[0], color='r')\n",
    "plt.axvline(confidence_interval.iloc[1], color='r')\n",
    "\n",
    "\n"
   ]
  },
  {
   "cell_type": "code",
   "execution_count": 178,
   "metadata": {},
   "outputs": [
    {
     "data": {
      "text/plain": [
       "<matplotlib.axes._subplots.AxesSubplot at 0x1a74d5bf828>"
      ]
     },
     "execution_count": 178,
     "metadata": {},
     "output_type": "execute_result"
    },
    {
     "data": {
      "image/png": "[encoded data removed]",
      "text/plain": [
       "<Figure size 432x288 with 1 Axes>"
      ]
     },
     "metadata": {
      "needs_background": "light"
     },
     "output_type": "display_data"
    }
   ],
   "source": [
    "### Visualize the distribution of the ending returns\n",
    "### `Plot` function to create a probability distribution histogram of simulated ending prices\n",
    "# with markings for a 90% confidence interval\n",
    "plt.figure();\n",
    "ending_cumulative_returns.plot(kind='hist',bins=10)\n"
   ]
  },
  {
   "cell_type": "code",
   "execution_count": null,
   "metadata": {},
   "outputs": [],
   "source": []
  },
  {
   "cell_type": "code",
   "execution_count": 179,
   "metadata": {},
   "outputs": [],
   "source": [
    "# Retirement Analysis"
   ]
  },
  {
   "cell_type": "code",
   "execution_count": 180,
   "metadata": {},
   "outputs": [],
   "source": [
    "## Expected cumulative returns at 30 years for the 10th, 50th, and 90th percentiles"
   ]
  },
  {
   "cell_type": "code",
   "execution_count": 181,
   "metadata": {},
   "outputs": [],
   "source": [
    "### Expected cumulative returns for 10th"
   ]
  },
  {
   "cell_type": "code",
   "execution_count": 182,
   "metadata": {},
   "outputs": [
    {
     "data": {
      "text/plain": [
       "(2.836, 4.95]       0.406\n",
       "(4.95, 7.063]       0.222\n",
       "(0.7, 2.836]        0.172\n",
       "(7.063, 9.177]      0.102\n",
       "(9.177, 11.291]     0.052\n",
       "(11.291, 13.405]    0.022\n",
       "(13.405, 15.519]    0.016\n",
       "(15.519, 17.633]    0.006\n",
       "(19.747, 21.86]     0.002\n",
       "(17.633, 19.747]    0.000\n",
       "Name: 7560, dtype: float64"
      ]
     },
     "execution_count": 182,
     "metadata": {},
     "output_type": "execute_result"
    }
   ],
   "source": [
    "## Checking probability on ending cumulative returns\n",
    "ending_cumulative_returns.value_counts(bins=10) / len(ending_cumulative_returns)"
   ]
  },
  {
   "cell_type": "code",
   "execution_count": 183,
   "metadata": {},
   "outputs": [
    {
     "data": {
      "text/plain": [
       "0.0    0.721822\n",
       "0.1    2.340513\n",
       "Name: 7560, dtype: float64"
      ]
     },
     "execution_count": 183,
     "metadata": {},
     "output_type": "execute_result"
    }
   ],
   "source": [
    "confidence_10_percentile = ending_cumulative_returns.quantile(q=[0.00, 0.10])\n",
    "confidence_10_percentile"
   ]
  },
  {
   "cell_type": "code",
   "execution_count": 184,
   "metadata": {},
   "outputs": [
    {
     "name": "stdout",
     "output_type": "stream",
     "text": [
      " The expected cumulative return at 10th is : 2.3405128914096966\n"
     ]
    }
   ],
   "source": [
    "print(f\" The expected cumulative return at 10th is : {confidence_10_percentile.iloc[1]}\")"
   ]
  },
  {
   "cell_type": "code",
   "execution_count": 185,
   "metadata": {},
   "outputs": [
    {
     "data": {
      "text/plain": [
       "<matplotlib.lines.Line2D at 0x1a75d5a2208>"
      ]
     },
     "execution_count": 185,
     "metadata": {},
     "output_type": "execute_result"
    },
    {
     "data": {
      "image/png": "[encoded data removed]",
      "text/plain": [
       "<Figure size 432x288 with 1 Axes>"
      ]
     },
     "metadata": {
      "needs_background": "light"
     },
     "output_type": "display_data"
    }
   ],
   "source": [
    "### Visualize the 10th percentile\n",
    "plt.figure();\n",
    "ending_cumulative_returns.plot(kind='hist', density=True, bins=10)\n",
    "plt.axvline(confidence_10_percentile.iloc[1], color='r')\n"
   ]
  },
  {
   "cell_type": "code",
   "execution_count": 186,
   "metadata": {},
   "outputs": [],
   "source": [
    "# Expected cumulative return at 50th"
   ]
  },
  {
   "cell_type": "code",
   "execution_count": 187,
   "metadata": {},
   "outputs": [
    {
     "data": {
      "text/plain": [
       "0.0    0.721822\n",
       "0.5    4.464948\n",
       "Name: 7560, dtype: float64"
      ]
     },
     "execution_count": 187,
     "metadata": {},
     "output_type": "execute_result"
    }
   ],
   "source": [
    "confidence_50_percentile = ending_cumulative_returns.quantile(q=[0.00, 0.50])\n",
    "confidence_50_percentile"
   ]
  },
  {
   "cell_type": "code",
   "execution_count": 188,
   "metadata": {},
   "outputs": [
    {
     "data": {
      "text/plain": [
       "<matplotlib.lines.Line2D at 0x1a75d634710>"
      ]
     },
     "execution_count": 188,
     "metadata": {},
     "output_type": "execute_result"
    },
    {
     "data": {
      "image/png": "[encoded data removed]",
      "text/plain": [
       "<Figure size 432x288 with 1 Axes>"
      ]
     },
     "metadata": {
      "needs_background": "light"
     },
     "output_type": "display_data"
    }
   ],
   "source": [
    "### Visualize the 50th percentile\n",
    "plt.figure();\n",
    "ending_cumulative_returns.plot(kind='hist', density=True, bins=10)\n",
    "plt.axvline(confidence_50_percentile.iloc[1], color='r')\n"
   ]
  },
  {
   "cell_type": "code",
   "execution_count": 189,
   "metadata": {},
   "outputs": [
    {
     "name": "stdout",
     "output_type": "stream",
     "text": [
      " The expected cumulative return at 50th is : 4.46494831861785\n"
     ]
    }
   ],
   "source": [
    "print(f\" The expected cumulative return at 50th is : {confidence_50_percentile.iloc[1]}\")"
   ]
  },
  {
   "cell_type": "code",
   "execution_count": 190,
   "metadata": {},
   "outputs": [],
   "source": [
    "# Expected cumulative return at 90th"
   ]
  },
  {
   "cell_type": "code",
   "execution_count": 191,
   "metadata": {},
   "outputs": [
    {
     "data": {
      "text/plain": [
       "0.0    0.721822\n",
       "0.9    8.947640\n",
       "Name: 7560, dtype: float64"
      ]
     },
     "execution_count": 191,
     "metadata": {},
     "output_type": "execute_result"
    }
   ],
   "source": [
    "confidence_90_percentile = ending_cumulative_returns.quantile(q=[0.00, 0.90])\n",
    "confidence_90_percentile"
   ]
  },
  {
   "cell_type": "code",
   "execution_count": 192,
   "metadata": {},
   "outputs": [
    {
     "data": {
      "text/plain": [
       "<matplotlib.lines.Line2D at 0x1a75d6dad68>"
      ]
     },
     "execution_count": 192,
     "metadata": {},
     "output_type": "execute_result"
    },
    {
     "data": {
      "image/png": "[encoded data removed]",
      "text/plain": [
       "<Figure size 432x288 with 1 Axes>"
      ]
     },
     "metadata": {
      "needs_background": "light"
     },
     "output_type": "display_data"
    }
   ],
   "source": [
    "### Visualize the 90th percentile\n",
    "plt.figure();\n",
    "ending_cumulative_returns.plot(kind='hist', density=True, bins=10)\n",
    "plt.axvline(confidence_90_percentile.iloc[1], color='r')\n"
   ]
  },
  {
   "cell_type": "code",
   "execution_count": 193,
   "metadata": {},
   "outputs": [
    {
     "name": "stdout",
     "output_type": "stream",
     "text": [
      " The expected cumulative return at 90th is : 8.947640495678542\n"
     ]
    }
   ],
   "source": [
    "print(f\" The expected cumulative return at 90th is : {confidence_90_percentile.iloc[1]}\")"
   ]
  },
  {
   "cell_type": "code",
   "execution_count": 194,
   "metadata": {},
   "outputs": [],
   "source": [
    "## Initial investmet of $20,000, what is the expected portfolio return in dollars\n",
    "## at 10th, 50th, and 90th"
   ]
  },
  {
   "cell_type": "code",
   "execution_count": 195,
   "metadata": {},
   "outputs": [],
   "source": [
    "## Initial investment \n",
    "initial_investment = 20000"
   ]
  },
  {
   "cell_type": "code",
   "execution_count": 196,
   "metadata": {},
   "outputs": [
    {
     "name": "stdout",
     "output_type": "stream",
     "text": [
      "At 10th percentile an initial investment of $20,000 in the portfolio over the next 252 * 30 trading days will end with  $66810.25782819393\n"
     ]
    }
   ],
   "source": [
    "### Calculate expected portfolio return in dollars at 10th\n",
    "investment_profit_loss_10 = initial_investment + (initial_investment * confidence_10_percentile.iloc[1])\n",
    "                                                    \n",
    "#### Print the results\n",
    "print(f\"At 10th percentile an initial investment of $20,000 in the portfolio\"\n",
    "      f\" over the next 252 * 30 trading days will end with \"\n",
    "      f\" ${investment_profit_loss_10}\")"
   ]
  },
  {
   "cell_type": "code",
   "execution_count": 197,
   "metadata": {},
   "outputs": [
    {
     "name": "stdout",
     "output_type": "stream",
     "text": [
      "At 50th percentile an initial investment of $20,000 in the portfolio over the next 252 * 30 trading days will end with  $109298.966372357\n"
     ]
    }
   ],
   "source": [
    "### Calculate expected portfolio return in dollars at 50th\n",
    "investment_profit_loss_50 = initial_investment + (initial_investment * confidence_50_percentile.iloc[1])\n",
    "                                                    \n",
    "#### Print the results\n",
    "print(f\"At 50th percentile an initial investment of $20,000 in the portfolio\"\n",
    "      f\" over the next 252 * 30 trading days will end with \"\n",
    "      f\" ${investment_profit_loss_50}\")"
   ]
  },
  {
   "cell_type": "code",
   "execution_count": 198,
   "metadata": {},
   "outputs": [
    {
     "name": "stdout",
     "output_type": "stream",
     "text": [
      "At 90th percentile an initial investment of $20,000 in the portfolio over the next 252 * 30 trading days will end with  $198952.80991357082\n"
     ]
    }
   ],
   "source": [
    "### Calculate expected portfolio return in dollars at 90th\n",
    "investment_profit_loss_90 = initial_investment + (initial_investment * confidence_90_percentile.iloc[1])\n",
    "                                                    \n",
    "#### Print the results\n",
    "print(f\"At 90th percentile an initial investment of $20,000 in the portfolio\"\n",
    "      f\" over the next 252 * 30 trading days will end with \"\n",
    "      f\" ${investment_profit_loss_90}\")"
   ]
  },
  {
   "cell_type": "code",
   "execution_count": 199,
   "metadata": {},
   "outputs": [],
   "source": [
    "## Given the current projected annual  income from Plaid analysis, with a 4% withdraw rate\n",
    "## from the retirement portfolio meet or exceed that value at the 10th percentile?"
   ]
  },
  {
   "cell_type": "code",
   "execution_count": 200,
   "metadata": {},
   "outputs": [],
   "source": [
    "## How would a 50% increase in the initial investment amount affect the 4% retirement  withdrawal"
   ]
  },
  {
   "cell_type": "code",
   "execution_count": 201,
   "metadata": {},
   "outputs": [
    {
     "data": {
      "text/html": [
       "<div>\n",
       "<style scoped>\n",
       "    .dataframe tbody tr th:only-of-type {\n",
       "        vertical-align: middle;\n",
       "    }\n",
       "\n",
       "    .dataframe tbody tr th {\n",
       "        vertical-align: top;\n",
       "    }\n",
       "\n",
       "    .dataframe thead th {\n",
       "        text-align: right;\n",
       "    }\n",
       "</style>\n",
       "<table border=\"1\" class=\"dataframe\">\n",
       "  <thead>\n",
       "    <tr style=\"text-align: right;\">\n",
       "      <th></th>\n",
       "      <th>5th percentile</th>\n",
       "      <th>50th percentile</th>\n",
       "      <th>90th percentile</th>\n",
       "    </tr>\n",
       "  </thead>\n",
       "  <tbody>\n",
       "    <tr>\n",
       "      <th>0</th>\n",
       "      <td>1.000000</td>\n",
       "      <td>1.000000</td>\n",
       "      <td>1.000000</td>\n",
       "    </tr>\n",
       "    <tr>\n",
       "      <th>1</th>\n",
       "      <td>0.989906</td>\n",
       "      <td>1.000314</td>\n",
       "      <td>1.009190</td>\n",
       "    </tr>\n",
       "    <tr>\n",
       "      <th>2</th>\n",
       "      <td>0.986703</td>\n",
       "      <td>1.000811</td>\n",
       "      <td>1.012603</td>\n",
       "    </tr>\n",
       "    <tr>\n",
       "      <th>3</th>\n",
       "      <td>0.983022</td>\n",
       "      <td>1.001067</td>\n",
       "      <td>1.015920</td>\n",
       "    </tr>\n",
       "    <tr>\n",
       "      <th>4</th>\n",
       "      <td>0.979921</td>\n",
       "      <td>1.001542</td>\n",
       "      <td>1.017933</td>\n",
       "    </tr>\n",
       "  </tbody>\n",
       "</table>\n",
       "</div>"
      ],
      "text/plain": [
       "   5th percentile  50th percentile  90th percentile\n",
       "0        1.000000         1.000000         1.000000\n",
       "1        0.989906         1.000314         1.009190\n",
       "2        0.986703         1.000811         1.012603\n",
       "3        0.983022         1.001067         1.015920\n",
       "4        0.979921         1.001542         1.017933"
      ]
     },
     "execution_count": 201,
     "metadata": {},
     "output_type": "execute_result"
    }
   ],
   "source": [
    "# Optional Challenge\n",
    "# Calculate and plot expected cumulative returns over 252 * 30 days at 5th percentile,\n",
    "# 50th percentile, and 90th percentile\n",
    "\n",
    "returns_5th_percentile = []\n",
    "returns_50th_percentile = []\n",
    "returns_90th_percentile = []\n",
    "investments_5th_percentile = []\n",
    "investments_50th_percentile = []\n",
    "investments_90th_percentile = []\n",
    "\n",
    "cumulative_returns_percentiles = pd.DataFrame()\n",
    "investment_result = pd.DataFrame()\n",
    "\n",
    "for i in range(number_records):\n",
    "    daily_cumulative_return = portfolio_cumulative_returns.iloc[i, :]\n",
    "    return_5th_percentile = daily_cumulative_return.quantile(q=[0.00, 0.05])\n",
    "    return_percentile = return_5th_percentile.iloc[1]\n",
    "    returns_5th_percentile.append(return_percentile)\n",
    "    \n",
    "    investment_5th_percentile = initial_investment + (initial_investment * return_percentile)\n",
    "    investments_5th_percentile.append(investment_5th_percentile) \n",
    "    \n",
    "    return_50th_percentile = daily_cumulative_return.quantile(q=[0.00, 0.50])\n",
    "    return_percentile = return_50th_percentile.iloc[1]\n",
    "    returns_50th_percentile.append(return_percentile)\n",
    "    \n",
    "    investment_50th_percentile = initial_investment + (initial_investment * return_percentile)\n",
    "    investments_50th_percentile.append(investment_50th_percentile)\n",
    "    \n",
    "    return_90th_percentile = daily_cumulative_return.quantile(q=[0.00, 0.90])\n",
    "    return_percentile = return_90th_percentile.iloc[1]\n",
    "    returns_90th_percentile.append(return_percentile)\n",
    "    \n",
    "    investment_90th_percentile = initial_investment + (initial_investment * return_percentile)\n",
    "    investments_90th_percentile.append(investment_90th_percentile)\n",
    "    \n",
    "cumulative_returns_percentiles[\"5th percentile\"] = pd.Series(returns_5th_percentile)\n",
    "cumulative_returns_percentiles[\"50th percentile\"] = pd.Series(returns_50th_percentile)\n",
    "cumulative_returns_percentiles[\"90th percentile\"] = pd.Series(returns_90th_percentile)\n",
    "\n",
    "investment_result[\"5th percentile\"] = pd.Series(investments_5th_percentile)\n",
    "investment_result[\"50th percentile\"] = pd.Series(investments_50th_percentile)\n",
    "investment_result[\"90th percentile\"] = pd.Series(investments_90th_percentile)\n",
    "\n",
    "cumulative_returns_percentiles.head()"
   ]
  },
  {
   "cell_type": "code",
   "execution_count": 202,
   "metadata": {},
   "outputs": [
    {
     "data": {
      "text/html": [
       "<div>\n",
       "<style scoped>\n",
       "    .dataframe tbody tr th:only-of-type {\n",
       "        vertical-align: middle;\n",
       "    }\n",
       "\n",
       "    .dataframe tbody tr th {\n",
       "        vertical-align: top;\n",
       "    }\n",
       "\n",
       "    .dataframe thead th {\n",
       "        text-align: right;\n",
       "    }\n",
       "</style>\n",
       "<table border=\"1\" class=\"dataframe\">\n",
       "  <thead>\n",
       "    <tr style=\"text-align: right;\">\n",
       "      <th></th>\n",
       "      <th>5th percentile</th>\n",
       "      <th>50th percentile</th>\n",
       "      <th>90th percentile</th>\n",
       "    </tr>\n",
       "  </thead>\n",
       "  <tbody>\n",
       "    <tr>\n",
       "      <th>0</th>\n",
       "      <td>40000.000000</td>\n",
       "      <td>40000.000000</td>\n",
       "      <td>40000.000000</td>\n",
       "    </tr>\n",
       "    <tr>\n",
       "      <th>1</th>\n",
       "      <td>39798.113396</td>\n",
       "      <td>40006.280749</td>\n",
       "      <td>40183.790832</td>\n",
       "    </tr>\n",
       "    <tr>\n",
       "      <th>2</th>\n",
       "      <td>39734.055853</td>\n",
       "      <td>40016.211782</td>\n",
       "      <td>40252.064674</td>\n",
       "    </tr>\n",
       "    <tr>\n",
       "      <th>3</th>\n",
       "      <td>39660.440450</td>\n",
       "      <td>40021.346102</td>\n",
       "      <td>40318.397945</td>\n",
       "    </tr>\n",
       "    <tr>\n",
       "      <th>4</th>\n",
       "      <td>39598.415745</td>\n",
       "      <td>40030.848689</td>\n",
       "      <td>40358.666125</td>\n",
       "    </tr>\n",
       "  </tbody>\n",
       "</table>\n",
       "</div>"
      ],
      "text/plain": [
       "   5th percentile  50th percentile  90th percentile\n",
       "0    40000.000000     40000.000000     40000.000000\n",
       "1    39798.113396     40006.280749     40183.790832\n",
       "2    39734.055853     40016.211782     40252.064674\n",
       "3    39660.440450     40021.346102     40318.397945\n",
       "4    39598.415745     40030.848689     40358.666125"
      ]
     },
     "execution_count": 202,
     "metadata": {},
     "output_type": "execute_result"
    }
   ],
   "source": [
    "investment_result.head()"
   ]
  },
  {
   "cell_type": "code",
   "execution_count": 203,
   "metadata": {},
   "outputs": [
    {
     "data": {
      "text/plain": [
       "<matplotlib.axes._subplots.AxesSubplot at 0x1a75d6f4320>"
      ]
     },
     "execution_count": 203,
     "metadata": {},
     "output_type": "execute_result"
    },
    {
     "data": {
      "image/png": "[encoded data removed]",
      "text/plain": [
       "<Figure size 432x288 with 1 Axes>"
      ]
     },
     "metadata": {
      "needs_background": "light"
     },
     "output_type": "display_data"
    }
   ],
   "source": [
    "# Plot Cumulative Returns at different expected returns\n",
    "plot_title = f\" Cumulative Returns over 252 * 30 days at 5th percentile, 50th percentile, and 90th percentile\"\n",
    "\n",
    "cumulative_returns_percentiles.plot(title=plot_title)"
   ]
  },
  {
   "cell_type": "code",
   "execution_count": 204,
   "metadata": {},
   "outputs": [
    {
     "data": {
      "text/plain": [
       "<matplotlib.axes._subplots.AxesSubplot at 0x1a75d7c99e8>"
      ]
     },
     "execution_count": 204,
     "metadata": {},
     "output_type": "execute_result"
    },
    {
     "data": {
      "image/png": "[encoded data removed]",
      "text/plain": [
       "<Figure size 432x288 with 1 Axes>"
      ]
     },
     "metadata": {
      "needs_background": "light"
     },
     "output_type": "display_data"
    }
   ],
   "source": [
    "# Plot Investments\n",
    "plot_title = f\" Investment Results over 252 * 30 days at 5th percentile, 50th percentile, and 90th percentile\"\n",
    "\n",
    "investment_result.plot(title=plot_title)"
   ]
  },
  {
   "cell_type": "code",
   "execution_count": null,
   "metadata": {},
   "outputs": [],
   "source": []
  }
 ],
 "metadata": {
  "kernelspec": {
   "display_name": "Python 3",
   "language": "python",
   "name": "python3"
  },
  "language_info": {
   "codemirror_mode": {
    "name": "ipython",
    "version": 3
   },
   "file_extension": ".py",
   "mimetype": "text/x-python",
   "name": "python",
   "nbconvert_exporter": "python",
   "pygments_lexer": "ipython3",
   "version": "3.7.3"
  }
 },
 "nbformat": 4,
 "nbformat_minor": 4
}
